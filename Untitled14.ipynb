{
  "nbformat": 4,
  "nbformat_minor": 0,
  "metadata": {
    "colab": {
      "name": "Untitled14.ipynb",
      "provenance": [],
      "authorship_tag": "ABX9TyNHPXYM6/Pm3BYW+M47FQsK",
      "include_colab_link": true
    },
    "kernelspec": {
      "name": "python3",
      "display_name": "Python 3"
    },
    "language_info": {
      "name": "python"
    }
  },
  "cells": [
    {
      "cell_type": "markdown",
      "metadata": {
        "id": "view-in-github",
        "colab_type": "text"
      },
      "source": [
        "<a href=\"https://colab.research.google.com/github/Lee-Geunhee/Lee-Geunhee/blob/main/Untitled14.ipynb\" target=\"_parent\"><img src=\"https://colab.research.google.com/assets/colab-badge.svg\" alt=\"Open In Colab\"/></a>"
      ]
    },
    {
      "cell_type": "code",
      "execution_count": 1,
      "metadata": {
        "id": "7xId7hcY6vsb"
      },
      "outputs": [],
      "source": [
        "import pandas as pd"
      ]
    },
    {
      "cell_type": "code",
      "source": [
        "df = pd.read_csv('/content/0320')"
      ],
      "metadata": {
        "id": "j-HnFPof6x9s"
      },
      "execution_count": 2,
      "outputs": []
    },
    {
      "cell_type": "code",
      "source": [
        "df.head()"
      ],
      "metadata": {
        "colab": {
          "base_uri": "https://localhost:8080/",
          "height": 236
        },
        "id": "CnjsDfZE63lR",
        "outputId": "92662838-0c65-46c5-fb5c-88f6316b89e5"
      },
      "execution_count": 3,
      "outputs": [
        {
          "output_type": "execute_result",
          "data": {
            "text/plain": [
              "   Unnamed: 0    상권_코드   여성10    여성20    여성30   여성40   여성50   남성10    남성20  \\\n",
              "0           0  1000001  417.0   424.0   495.0  648.0  594.0  495.0   371.0   \n",
              "1           1  1000002  630.0  1852.0  1436.0  892.0  778.0  633.0  1040.0   \n",
              "2           2  1000003  119.0   272.0   255.0  292.0  281.0  146.0   337.0   \n",
              "3           3  1000004  604.0  1370.0   485.0  635.0  689.0  535.0  1524.0   \n",
              "4           4  1000005  467.0   468.0   498.0  695.0  760.0  569.0   519.0   \n",
              "\n",
              "     남성30  ...  백화점_수  슈퍼마켓_수  극장_수  숙박_시설_수  공항_수  철도_역_수  버스_터미널_수  지하철_역_수  \\\n",
              "0   440.0  ...    0.0     0.0   0.0      0.0   0.0     0.0       0.0      0.0   \n",
              "1  1380.0  ...    0.0     3.0   0.0      5.0   0.0     0.0       0.0      3.0   \n",
              "2   379.0  ...    0.0     0.0   0.0      7.0   0.0     0.0       0.0      1.0   \n",
              "3   692.0  ...    0.0     0.0   0.0      0.0   0.0     0.0       0.0      0.0   \n",
              "4   488.0  ...    0.0     0.0   0.0      0.0   0.0     0.0       0.0      0.0   \n",
              "\n",
              "   버스_정거장_수         외식업매출  \n",
              "0      31.0  3.865663e+07  \n",
              "1      20.0  2.398517e+07  \n",
              "2      40.0  3.564412e+07  \n",
              "3      28.0  1.973169e+07  \n",
              "4      17.0  4.818220e+07  \n",
              "\n",
              "[5 rows x 66 columns]"
            ],
            "text/html": [
              "\n",
              "  <div id=\"df-225ae308-ae9e-475c-b5b5-056728377af3\">\n",
              "    <div class=\"colab-df-container\">\n",
              "      <div>\n",
              "<style scoped>\n",
              "    .dataframe tbody tr th:only-of-type {\n",
              "        vertical-align: middle;\n",
              "    }\n",
              "\n",
              "    .dataframe tbody tr th {\n",
              "        vertical-align: top;\n",
              "    }\n",
              "\n",
              "    .dataframe thead th {\n",
              "        text-align: right;\n",
              "    }\n",
              "</style>\n",
              "<table border=\"1\" class=\"dataframe\">\n",
              "  <thead>\n",
              "    <tr style=\"text-align: right;\">\n",
              "      <th></th>\n",
              "      <th>Unnamed: 0</th>\n",
              "      <th>상권_코드</th>\n",
              "      <th>여성10</th>\n",
              "      <th>여성20</th>\n",
              "      <th>여성30</th>\n",
              "      <th>여성40</th>\n",
              "      <th>여성50</th>\n",
              "      <th>남성10</th>\n",
              "      <th>남성20</th>\n",
              "      <th>남성30</th>\n",
              "      <th>...</th>\n",
              "      <th>백화점_수</th>\n",
              "      <th>슈퍼마켓_수</th>\n",
              "      <th>극장_수</th>\n",
              "      <th>숙박_시설_수</th>\n",
              "      <th>공항_수</th>\n",
              "      <th>철도_역_수</th>\n",
              "      <th>버스_터미널_수</th>\n",
              "      <th>지하철_역_수</th>\n",
              "      <th>버스_정거장_수</th>\n",
              "      <th>외식업매출</th>\n",
              "    </tr>\n",
              "  </thead>\n",
              "  <tbody>\n",
              "    <tr>\n",
              "      <th>0</th>\n",
              "      <td>0</td>\n",
              "      <td>1000001</td>\n",
              "      <td>417.0</td>\n",
              "      <td>424.0</td>\n",
              "      <td>495.0</td>\n",
              "      <td>648.0</td>\n",
              "      <td>594.0</td>\n",
              "      <td>495.0</td>\n",
              "      <td>371.0</td>\n",
              "      <td>440.0</td>\n",
              "      <td>...</td>\n",
              "      <td>0.0</td>\n",
              "      <td>0.0</td>\n",
              "      <td>0.0</td>\n",
              "      <td>0.0</td>\n",
              "      <td>0.0</td>\n",
              "      <td>0.0</td>\n",
              "      <td>0.0</td>\n",
              "      <td>0.0</td>\n",
              "      <td>31.0</td>\n",
              "      <td>3.865663e+07</td>\n",
              "    </tr>\n",
              "    <tr>\n",
              "      <th>1</th>\n",
              "      <td>1</td>\n",
              "      <td>1000002</td>\n",
              "      <td>630.0</td>\n",
              "      <td>1852.0</td>\n",
              "      <td>1436.0</td>\n",
              "      <td>892.0</td>\n",
              "      <td>778.0</td>\n",
              "      <td>633.0</td>\n",
              "      <td>1040.0</td>\n",
              "      <td>1380.0</td>\n",
              "      <td>...</td>\n",
              "      <td>0.0</td>\n",
              "      <td>3.0</td>\n",
              "      <td>0.0</td>\n",
              "      <td>5.0</td>\n",
              "      <td>0.0</td>\n",
              "      <td>0.0</td>\n",
              "      <td>0.0</td>\n",
              "      <td>3.0</td>\n",
              "      <td>20.0</td>\n",
              "      <td>2.398517e+07</td>\n",
              "    </tr>\n",
              "    <tr>\n",
              "      <th>2</th>\n",
              "      <td>2</td>\n",
              "      <td>1000003</td>\n",
              "      <td>119.0</td>\n",
              "      <td>272.0</td>\n",
              "      <td>255.0</td>\n",
              "      <td>292.0</td>\n",
              "      <td>281.0</td>\n",
              "      <td>146.0</td>\n",
              "      <td>337.0</td>\n",
              "      <td>379.0</td>\n",
              "      <td>...</td>\n",
              "      <td>0.0</td>\n",
              "      <td>0.0</td>\n",
              "      <td>0.0</td>\n",
              "      <td>7.0</td>\n",
              "      <td>0.0</td>\n",
              "      <td>0.0</td>\n",
              "      <td>0.0</td>\n",
              "      <td>1.0</td>\n",
              "      <td>40.0</td>\n",
              "      <td>3.564412e+07</td>\n",
              "    </tr>\n",
              "    <tr>\n",
              "      <th>3</th>\n",
              "      <td>3</td>\n",
              "      <td>1000004</td>\n",
              "      <td>604.0</td>\n",
              "      <td>1370.0</td>\n",
              "      <td>485.0</td>\n",
              "      <td>635.0</td>\n",
              "      <td>689.0</td>\n",
              "      <td>535.0</td>\n",
              "      <td>1524.0</td>\n",
              "      <td>692.0</td>\n",
              "      <td>...</td>\n",
              "      <td>0.0</td>\n",
              "      <td>0.0</td>\n",
              "      <td>0.0</td>\n",
              "      <td>0.0</td>\n",
              "      <td>0.0</td>\n",
              "      <td>0.0</td>\n",
              "      <td>0.0</td>\n",
              "      <td>0.0</td>\n",
              "      <td>28.0</td>\n",
              "      <td>1.973169e+07</td>\n",
              "    </tr>\n",
              "    <tr>\n",
              "      <th>4</th>\n",
              "      <td>4</td>\n",
              "      <td>1000005</td>\n",
              "      <td>467.0</td>\n",
              "      <td>468.0</td>\n",
              "      <td>498.0</td>\n",
              "      <td>695.0</td>\n",
              "      <td>760.0</td>\n",
              "      <td>569.0</td>\n",
              "      <td>519.0</td>\n",
              "      <td>488.0</td>\n",
              "      <td>...</td>\n",
              "      <td>0.0</td>\n",
              "      <td>0.0</td>\n",
              "      <td>0.0</td>\n",
              "      <td>0.0</td>\n",
              "      <td>0.0</td>\n",
              "      <td>0.0</td>\n",
              "      <td>0.0</td>\n",
              "      <td>0.0</td>\n",
              "      <td>17.0</td>\n",
              "      <td>4.818220e+07</td>\n",
              "    </tr>\n",
              "  </tbody>\n",
              "</table>\n",
              "<p>5 rows × 66 columns</p>\n",
              "</div>\n",
              "      <button class=\"colab-df-convert\" onclick=\"convertToInteractive('df-225ae308-ae9e-475c-b5b5-056728377af3')\"\n",
              "              title=\"Convert this dataframe to an interactive table.\"\n",
              "              style=\"display:none;\">\n",
              "        \n",
              "  <svg xmlns=\"http://www.w3.org/2000/svg\" height=\"24px\"viewBox=\"0 0 24 24\"\n",
              "       width=\"24px\">\n",
              "    <path d=\"M0 0h24v24H0V0z\" fill=\"none\"/>\n",
              "    <path d=\"M18.56 5.44l.94 2.06.94-2.06 2.06-.94-2.06-.94-.94-2.06-.94 2.06-2.06.94zm-11 1L8.5 8.5l.94-2.06 2.06-.94-2.06-.94L8.5 2.5l-.94 2.06-2.06.94zm10 10l.94 2.06.94-2.06 2.06-.94-2.06-.94-.94-2.06-.94 2.06-2.06.94z\"/><path d=\"M17.41 7.96l-1.37-1.37c-.4-.4-.92-.59-1.43-.59-.52 0-1.04.2-1.43.59L10.3 9.45l-7.72 7.72c-.78.78-.78 2.05 0 2.83L4 21.41c.39.39.9.59 1.41.59.51 0 1.02-.2 1.41-.59l7.78-7.78 2.81-2.81c.8-.78.8-2.07 0-2.86zM5.41 20L4 18.59l7.72-7.72 1.47 1.35L5.41 20z\"/>\n",
              "  </svg>\n",
              "      </button>\n",
              "      \n",
              "  <style>\n",
              "    .colab-df-container {\n",
              "      display:flex;\n",
              "      flex-wrap:wrap;\n",
              "      gap: 12px;\n",
              "    }\n",
              "\n",
              "    .colab-df-convert {\n",
              "      background-color: #E8F0FE;\n",
              "      border: none;\n",
              "      border-radius: 50%;\n",
              "      cursor: pointer;\n",
              "      display: none;\n",
              "      fill: #1967D2;\n",
              "      height: 32px;\n",
              "      padding: 0 0 0 0;\n",
              "      width: 32px;\n",
              "    }\n",
              "\n",
              "    .colab-df-convert:hover {\n",
              "      background-color: #E2EBFA;\n",
              "      box-shadow: 0px 1px 2px rgba(60, 64, 67, 0.3), 0px 1px 3px 1px rgba(60, 64, 67, 0.15);\n",
              "      fill: #174EA6;\n",
              "    }\n",
              "\n",
              "    [theme=dark] .colab-df-convert {\n",
              "      background-color: #3B4455;\n",
              "      fill: #D2E3FC;\n",
              "    }\n",
              "\n",
              "    [theme=dark] .colab-df-convert:hover {\n",
              "      background-color: #434B5C;\n",
              "      box-shadow: 0px 1px 3px 1px rgba(0, 0, 0, 0.15);\n",
              "      filter: drop-shadow(0px 1px 2px rgba(0, 0, 0, 0.3));\n",
              "      fill: #FFFFFF;\n",
              "    }\n",
              "  </style>\n",
              "\n",
              "      <script>\n",
              "        const buttonEl =\n",
              "          document.querySelector('#df-225ae308-ae9e-475c-b5b5-056728377af3 button.colab-df-convert');\n",
              "        buttonEl.style.display =\n",
              "          google.colab.kernel.accessAllowed ? 'block' : 'none';\n",
              "\n",
              "        async function convertToInteractive(key) {\n",
              "          const element = document.querySelector('#df-225ae308-ae9e-475c-b5b5-056728377af3');\n",
              "          const dataTable =\n",
              "            await google.colab.kernel.invokeFunction('convertToInteractive',\n",
              "                                                     [key], {});\n",
              "          if (!dataTable) return;\n",
              "\n",
              "          const docLinkHtml = 'Like what you see? Visit the ' +\n",
              "            '<a target=\"_blank\" href=https://colab.research.google.com/notebooks/data_table.ipynb>data table notebook</a>'\n",
              "            + ' to learn more about interactive tables.';\n",
              "          element.innerHTML = '';\n",
              "          dataTable['output_type'] = 'display_data';\n",
              "          await google.colab.output.renderOutput(dataTable, element);\n",
              "          const docLink = document.createElement('div');\n",
              "          docLink.innerHTML = docLinkHtml;\n",
              "          element.appendChild(docLink);\n",
              "        }\n",
              "      </script>\n",
              "    </div>\n",
              "  </div>\n",
              "  "
            ]
          },
          "metadata": {},
          "execution_count": 3
        }
      ]
    },
    {
      "cell_type": "code",
      "source": [
        "df.columns"
      ],
      "metadata": {
        "colab": {
          "base_uri": "https://localhost:8080/"
        },
        "id": "gYhSjSfK64XB",
        "outputId": "7eb09ada-8b89-48ee-9b9c-dcab567f0064"
      },
      "execution_count": 4,
      "outputs": [
        {
          "output_type": "execute_result",
          "data": {
            "text/plain": [
              "Index(['Unnamed: 0', '상권_코드', '여성10', '여성20', '여성30', '여성40', '여성50', '남성10',\n",
              "       '남성20', '남성30', '남성40', '남성50', '남성60', '여성60', '비아파트가구수', '남성_생활인구_수',\n",
              "       '여성_생활인구_수', '아파트_단지_수', '아파트_가격_1_억_미만_세대_수', '아파트_가격_1_억_세대_수',\n",
              "       '아파트_가격_2_억_세대_수', '아파트_가격_3_억_세대_수', '아파트_가격_4_억_세대_수',\n",
              "       '아파트_가격_5_억_세대_수', '아파트_가격_6_억_이상_세대_수', '아파트_평균_면적', '아파트_평균_시가',\n",
              "       '상권내총점포수', '개업_율', '개업_점포_수', '폐업_률', '폐업_점포_수', '프랜차이즈_점포_수',\n",
              "       '남성연령대_10_직장_인구_수', '남성연령대_20_직장_인구_수', '남성연령대_30_직장_인구_수',\n",
              "       '남성연령대_40_직장_인구_수', '남성연령대_50_직장_인구_수', '남성연령대_60_이상_직장_인구_수',\n",
              "       '여성연령대_10_직장_인구_수', '여성연령대_20_직장_인구_수', '여성연령대_30_직장_인구_수',\n",
              "       '여성연령대_40_직장_인구_수', '여성연령대_50_직장_인구_수', '여성연령대_60_이상_직장_인구_수', '집객시설_수',\n",
              "       '관공서_수', '은행_수', '종합병원_수', '일반_병원_수', '약국_수', '유치원_수', '초등학교_수',\n",
              "       '중학교_수', '고등학교_수', '대학교_수', '백화점_수', '슈퍼마켓_수', '극장_수', '숙박_시설_수',\n",
              "       '공항_수', '철도_역_수', '버스_터미널_수', '지하철_역_수', '버스_정거장_수', '외식업매출'],\n",
              "      dtype='object')"
            ]
          },
          "metadata": {},
          "execution_count": 4
        }
      ]
    },
    {
      "cell_type": "code",
      "source": [
        "df.drop(['Unnamed: 0'],axis=1,inplace=True)"
      ],
      "metadata": {
        "id": "Fd1atLPM7RH1"
      },
      "execution_count": 5,
      "outputs": []
    },
    {
      "cell_type": "code",
      "source": [
        "train = df.sample(frac=0.75,random_state=1)\n",
        "test = df.drop(train.index)"
      ],
      "metadata": {
        "id": "7AQ9bmUm6-YD"
      },
      "execution_count": 6,
      "outputs": []
    },
    {
      "cell_type": "code",
      "source": [
        "len(train), len(test)"
      ],
      "metadata": {
        "colab": {
          "base_uri": "https://localhost:8080/"
        },
        "id": "5EO1LaVM7ZsS",
        "outputId": "d28fc1d7-648e-477c-d5cc-2bc34b1520bc"
      },
      "execution_count": 7,
      "outputs": [
        {
          "output_type": "execute_result",
          "data": {
            "text/plain": [
              "(1005, 335)"
            ]
          },
          "metadata": {},
          "execution_count": 7
        }
      ]
    },
    {
      "cell_type": "code",
      "source": [
        "train['외식업매출'].mean()"
      ],
      "metadata": {
        "colab": {
          "base_uri": "https://localhost:8080/"
        },
        "id": "rN3mmjAT7cBq",
        "outputId": "6bcea709-07d5-466e-ecd3-fbf991212574"
      },
      "execution_count": 8,
      "outputs": [
        {
          "output_type": "execute_result",
          "data": {
            "text/plain": [
              "43314865.84555848"
            ]
          },
          "metadata": {},
          "execution_count": 8
        }
      ]
    },
    {
      "cell_type": "code",
      "source": [
        "target = '외식업매출'\n",
        "y_train = train[target]\n",
        "y_test = test[target]"
      ],
      "metadata": {
        "id": "flF93_vR7dlA"
      },
      "execution_count": 9,
      "outputs": []
    },
    {
      "cell_type": "code",
      "source": [
        "predict = y_train.mean()"
      ],
      "metadata": {
        "id": "tm4JM6KD7f0R"
      },
      "execution_count": 10,
      "outputs": []
    },
    {
      "cell_type": "code",
      "source": [
        "predict"
      ],
      "metadata": {
        "colab": {
          "base_uri": "https://localhost:8080/"
        },
        "id": "WntSky1g7jZj",
        "outputId": "2ea78648-aa52-4b41-bf30-310d4866c6f5"
      },
      "execution_count": 11,
      "outputs": [
        {
          "output_type": "execute_result",
          "data": {
            "text/plain": [
              "43314865.84555848"
            ]
          },
          "metadata": {},
          "execution_count": 11
        }
      ]
    },
    {
      "cell_type": "code",
      "source": [
        "from sklearn.metrics import mean_absolute_error"
      ],
      "metadata": {
        "id": "C6zhOLOs7l2c"
      },
      "execution_count": 12,
      "outputs": []
    },
    {
      "cell_type": "code",
      "source": [
        "y_pred = [predict] * len(y_train)\n",
        "mae = mean_absolute_error(y_train, y_pred)\n",
        "\n",
        "print(f'훈련 에러: {mae:.2f}')"
      ],
      "metadata": {
        "colab": {
          "base_uri": "https://localhost:8080/"
        },
        "id": "LBqc_fia7neq",
        "outputId": "2cfbdf8c-458b-467c-daf7-14be3f529f39"
      },
      "execution_count": 13,
      "outputs": [
        {
          "output_type": "stream",
          "name": "stdout",
          "text": [
            "훈련 에러: 24091074.04\n"
          ]
        }
      ]
    },
    {
      "cell_type": "code",
      "source": [
        "y_pred = [predict] * len(y_test)\n",
        "mae = mean_absolute_error(y_test, y_pred)\n",
        "print(f'테스트 에러: {mae:.2f}')"
      ],
      "metadata": {
        "colab": {
          "base_uri": "https://localhost:8080/"
        },
        "id": "2y119IAT7qJR",
        "outputId": "2ba71cbc-78b5-4589-c3ef-6d33cd232473"
      },
      "execution_count": 14,
      "outputs": [
        {
          "output_type": "stream",
          "name": "stdout",
          "text": [
            "테스트 에러: 22393230.57\n"
          ]
        }
      ]
    },
    {
      "cell_type": "code",
      "source": [
        "features = ['여성10', '여성20', '여성30', '여성40', '여성50', '남성10',\n",
        "       '남성20', '남성30', '남성40', '남성50', '남성60', '여성60', '비아파트가구수', '남성_생활인구_수',\n",
        "       '여성_생활인구_수', '아파트_단지_수', '아파트_가격_1_억_미만_세대_수', '아파트_가격_1_억_세대_수',\n",
        "       '아파트_가격_2_억_세대_수', '아파트_가격_3_억_세대_수', '아파트_가격_4_억_세대_수',\n",
        "       '아파트_가격_5_억_세대_수', '아파트_가격_6_억_이상_세대_수', '아파트_평균_면적', '아파트_평균_시가',\n",
        "       '상권내총점포수','남성연령대_10_직장_인구_수', '남성연령대_20_직장_인구_수', '남성연령대_30_직장_인구_수',\n",
        "       '남성연령대_40_직장_인구_수', '남성연령대_50_직장_인구_수', '남성연령대_60_이상_직장_인구_수',\n",
        "       '여성연령대_10_직장_인구_수', '여성연령대_20_직장_인구_수', '여성연령대_30_직장_인구_수',\n",
        "       '여성연령대_40_직장_인구_수', '여성연령대_50_직장_인구_수', '여성연령대_60_이상_직장_인구_수', '집객시설_수',\n",
        "       '관공서_수', '은행_수', '종합병원_수', '일반_병원_수', '약국_수', '유치원_수', '초등학교_수',\n",
        "       '중학교_수', '고등학교_수', '대학교_수', '백화점_수', '슈퍼마켓_수', '극장_수', '숙박_시설_수',\n",
        "       '공항_수', '철도_역_수', '버스_터미널_수', '지하철_역_수', '버스_정거장_수']\n",
        "X_train = train[features]\n",
        "X_test = test[features]"
      ],
      "metadata": {
        "id": "7Pjzw-Ro7yGW"
      },
      "execution_count": 24,
      "outputs": []
    },
    {
      "cell_type": "code",
      "source": [
        "from sklearn.linear_model import LinearRegression"
      ],
      "metadata": {
        "id": "08zi5feV77j1"
      },
      "execution_count": 25,
      "outputs": []
    },
    {
      "cell_type": "code",
      "source": [
        "model = LinearRegression()"
      ],
      "metadata": {
        "id": "F7a2ZP8I79Gb"
      },
      "execution_count": 26,
      "outputs": []
    },
    {
      "cell_type": "code",
      "source": [
        "model.fit(X_train, y_train)\n",
        "y_pred = model.predict(X_train)\n",
        "mae = mean_absolute_error(y_train, y_pred)\n",
        "print(f'훈련 에러: {mae:.2f}')"
      ],
      "metadata": {
        "colab": {
          "base_uri": "https://localhost:8080/"
        },
        "id": "7Edmjdmr8AgG",
        "outputId": "a2aa46e8-003f-4902-bae3-12f525a9ef5e"
      },
      "execution_count": 27,
      "outputs": [
        {
          "output_type": "stream",
          "name": "stdout",
          "text": [
            "훈련 에러: 18774011.13\n"
          ]
        }
      ]
    },
    {
      "cell_type": "code",
      "source": [
        "y_pred = model.predict(X_test)\n",
        "mae = mean_absolute_error(y_test, y_pred)\n",
        "print(f'테스트 에러: {mae:.2f}')"
      ],
      "metadata": {
        "colab": {
          "base_uri": "https://localhost:8080/"
        },
        "id": "aSW42WQn8Cq1",
        "outputId": "dcd384a9-ca3a-470f-ddde-b500701c32d5"
      },
      "execution_count": 28,
      "outputs": [
        {
          "output_type": "stream",
          "name": "stdout",
          "text": [
            "테스트 에러: 18313573.24\n"
          ]
        }
      ]
    },
    {
      "cell_type": "code",
      "source": [
        "train_r2 = model.score(X_train, y_train)\n",
        "test_r2 = model.score(X_test, y_test)"
      ],
      "metadata": {
        "id": "I2saLqaV8XN4"
      },
      "execution_count": 29,
      "outputs": []
    },
    {
      "cell_type": "code",
      "source": [
        "train_r2,test_r2"
      ],
      "metadata": {
        "colab": {
          "base_uri": "https://localhost:8080/"
        },
        "id": "95EUd0oq8Yd4",
        "outputId": "2dabf026-0429-42a9-814d-fc394485a7be"
      },
      "execution_count": 30,
      "outputs": [
        {
          "output_type": "execute_result",
          "data": {
            "text/plain": [
              "(0.3317412078873859, 0.23194235086396697)"
            ]
          },
          "metadata": {},
          "execution_count": 30
        }
      ]
    },
    {
      "cell_type": "code",
      "source": [
        "from sklearn.feature_selection import f_regression, SelectKBest"
      ],
      "metadata": {
        "id": "uyAp_jAr8ZaN"
      },
      "execution_count": 33,
      "outputs": []
    },
    {
      "cell_type": "code",
      "source": [
        "selector = SelectKBest(score_func=f_regression, k=10)"
      ],
      "metadata": {
        "id": "rIoPg4Ws9Wvl"
      },
      "execution_count": 34,
      "outputs": []
    },
    {
      "cell_type": "code",
      "source": [
        "X_train_selected = selector.fit_transform(X_train, y_train)"
      ],
      "metadata": {
        "colab": {
          "base_uri": "https://localhost:8080/"
        },
        "id": "DogPZhWQ9YKN",
        "outputId": "7d33ad41-f759-47d1-b654-99e41aed8eea"
      },
      "execution_count": 35,
      "outputs": [
        {
          "output_type": "stream",
          "name": "stderr",
          "text": [
            "/usr/local/lib/python3.7/dist-packages/sklearn/feature_selection/_univariate_selection.py:289: RuntimeWarning: invalid value encountered in true_divide\n",
            "  correlation_coefficient /= X_norms\n"
          ]
        }
      ]
    },
    {
      "cell_type": "code",
      "source": [
        "X_test_selected = selector.transform(X_test)"
      ],
      "metadata": {
        "id": "H0NasyJg9Zhu"
      },
      "execution_count": 36,
      "outputs": []
    },
    {
      "cell_type": "code",
      "source": [
        "X_train_selected.shape, X_test_selected.shape"
      ],
      "metadata": {
        "colab": {
          "base_uri": "https://localhost:8080/"
        },
        "id": "mxpF1HLB9brP",
        "outputId": "70dab02f-71c1-4701-c0da-47f10ae40c44"
      },
      "execution_count": 37,
      "outputs": [
        {
          "output_type": "execute_result",
          "data": {
            "text/plain": [
              "((1005, 10), (335, 10))"
            ]
          },
          "metadata": {},
          "execution_count": 37
        }
      ]
    },
    {
      "cell_type": "code",
      "source": [
        "all_names = X_train.columns"
      ],
      "metadata": {
        "id": "HceyoAmk9dUb"
      },
      "execution_count": 38,
      "outputs": []
    },
    {
      "cell_type": "code",
      "source": [
        "selected_mask = selector.get_support()"
      ],
      "metadata": {
        "id": "Zljd3HEr9e5A"
      },
      "execution_count": 39,
      "outputs": []
    },
    {
      "cell_type": "code",
      "source": [
        "selected_names = all_names[selected_mask]"
      ],
      "metadata": {
        "id": "MmZLcwzh9lFu"
      },
      "execution_count": 42,
      "outputs": []
    },
    {
      "cell_type": "code",
      "source": [
        "unselected_names = all_names[~selected_mask] "
      ],
      "metadata": {
        "id": "KhjjT3vB9hDS"
      },
      "execution_count": 40,
      "outputs": []
    },
    {
      "cell_type": "code",
      "source": [
        "print('Selected names: ', selected_names)\n",
        "print('Unselected names: ', unselected_names)"
      ],
      "metadata": {
        "colab": {
          "base_uri": "https://localhost:8080/"
        },
        "id": "sE_j-RjG9iR3",
        "outputId": "e4d2a8a5-d535-4241-c6ff-6dadc2172a05"
      },
      "execution_count": 43,
      "outputs": [
        {
          "output_type": "stream",
          "name": "stdout",
          "text": [
            "Selected names:  Index(['여성40', '여성50', '남성20', '남성30', '남성40', '남성50', '남성60', '여성60',\n",
            "       '비아파트가구수', '여성_생활인구_수'],\n",
            "      dtype='object')\n",
            "Unselected names:  Index(['여성10', '여성20', '여성30', '남성10', '남성_생활인구_수', '아파트_단지_수',\n",
            "       '아파트_가격_1_억_미만_세대_수', '아파트_가격_1_억_세대_수', '아파트_가격_2_억_세대_수',\n",
            "       '아파트_가격_3_억_세대_수', '아파트_가격_4_억_세대_수', '아파트_가격_5_억_세대_수',\n",
            "       '아파트_가격_6_억_이상_세대_수', '아파트_평균_면적', '아파트_평균_시가', '상권내총점포수',\n",
            "       '남성연령대_10_직장_인구_수', '남성연령대_20_직장_인구_수', '남성연령대_30_직장_인구_수',\n",
            "       '남성연령대_40_직장_인구_수', '남성연령대_50_직장_인구_수', '남성연령대_60_이상_직장_인구_수',\n",
            "       '여성연령대_10_직장_인구_수', '여성연령대_20_직장_인구_수', '여성연령대_30_직장_인구_수',\n",
            "       '여성연령대_40_직장_인구_수', '여성연령대_50_직장_인구_수', '여성연령대_60_이상_직장_인구_수', '집객시설_수',\n",
            "       '관공서_수', '은행_수', '종합병원_수', '일반_병원_수', '약국_수', '유치원_수', '초등학교_수',\n",
            "       '중학교_수', '고등학교_수', '대학교_수', '백화점_수', '슈퍼마켓_수', '극장_수', '숙박_시설_수',\n",
            "       '공항_수', '철도_역_수', '버스_터미널_수', '지하철_역_수', '버스_정거장_수'],\n",
            "      dtype='object')\n"
          ]
        }
      ]
    },
    {
      "cell_type": "code",
      "source": [
        "import matplotlib.pyplot as plt\n",
        "from sklearn.linear_model import LinearRegression\n",
        "from sklearn.metrics import mean_absolute_error, r2_score\n",
        "\n",
        "training = []\n",
        "testing = []\n",
        "ks = range(1, len(X_train.columns)+1)\n",
        "\n",
        "# 1 부터 특성 수 만큼 사용한 모델을 만들어서 MAE 값을 비교 합니다.\n",
        "for k in range(1, len(X_train.columns)+ 1):\n",
        "    print(f'{k} features')\n",
        "    \n",
        "    selector = SelectKBest(score_func=f_regression, k=k)\n",
        "    \n",
        "    X_train_selected = selector.fit_transform(X_train, y_train)\n",
        "    X_test_selected = selector.transform(X_test)\n",
        "    \n",
        "    all_names = X_train.columns\n",
        "    selected_mask = selector.get_support()\n",
        "    selected_names = all_names[selected_mask]\n",
        "    print('Selected names: ', selected_names)\n",
        "\n",
        "    \n",
        "    model = LinearRegression()\n",
        "    model.fit(X_train_selected, y_train)\n",
        "    y_pred = model.predict(X_train_selected)\n",
        "    mae = mean_absolute_error(y_train, y_pred)\n",
        "    training.append(mae)\n",
        "    \n",
        "    y_pred = model.predict(X_test_selected)\n",
        "    mae = mean_absolute_error(y_test, y_pred)\n",
        "    r2 = r2_score(y_test, y_pred)\n",
        "    testing.append(mae)\n",
        "    print(f'Test MAE: ${mae:,.0f}')\n",
        "    print(f'Test R2: {r2} \\n')\n",
        "\n",
        "plt.plot(ks, training, label='Training Score', color='b')\n",
        "plt.plot(ks, testing, label='Testing Score', color='g')\n",
        "plt.ylabel(\"MAE ($)\")\n",
        "plt.xlabel(\"Number of Features\")\n",
        "plt.title('Validation Curve')\n",
        "plt.legend()\n",
        "plt.show()"
      ],
      "metadata": {
        "colab": {
          "base_uri": "https://localhost:8080/",
          "height": 1000
        },
        "id": "pTNulWQ-9yBa",
        "outputId": "e2dbf28f-94b0-4c5b-d9cd-9d3b3e28bbf7"
      },
      "execution_count": 45,
      "outputs": [
        {
          "output_type": "stream",
          "name": "stdout",
          "text": [
            "1 features\n",
            "Selected names:  Index(['여성60'], dtype='object')\n",
            "Test MAE: $20,489,837\n",
            "Test R2: 0.11625182093183606 \n",
            "\n",
            "2 features\n",
            "Selected names:  Index(['남성60', '여성60'], dtype='object')\n",
            "Test MAE: $20,541,703\n",
            "Test R2: 0.11269219647983197 \n",
            "\n",
            "3 features\n",
            "Selected names:  Index(['남성50', '남성60', '여성60'], dtype='object')\n",
            "Test MAE: $20,601,822\n",
            "Test R2: 0.11171495973657197 \n",
            "\n",
            "4 features\n",
            "Selected names:  Index(['여성50', '남성50', '남성60', '여성60'], dtype='object')\n",
            "Test MAE: $20,369,646\n",
            "Test R2: 0.12656597909375533 \n",
            "\n",
            "5 features\n",
            "Selected names:  Index(['여성50', '남성50', '남성60', '여성60', '비아파트가구수'], dtype='object')\n",
            "Test MAE: $20,365,916\n",
            "Test R2: 0.12673414116923876 \n",
            "\n",
            "6 features\n",
            "Selected names:  Index(['여성50', '남성40', '남성50', '남성60', '여성60', '비아파트가구수'], dtype='object')\n",
            "Test MAE: $20,332,557\n",
            "Test R2: 0.13252916237013612 \n",
            "\n",
            "7 features\n",
            "Selected names:  Index(['여성50', '남성20', '남성40', '남성50', '남성60', '여성60', '비아파트가구수'], dtype='object')\n",
            "Test MAE: $20,155,856\n",
            "Test R2: 0.1450009557984968 \n",
            "\n",
            "8 features\n",
            "Selected names:  Index(['여성40', '여성50', '남성20', '남성40', '남성50', '남성60', '여성60', '비아파트가구수'], dtype='object')\n",
            "Test MAE: $20,173,334\n",
            "Test R2: 0.1494232323844823 \n",
            "\n",
            "9 features\n",
            "Selected names:  Index(['여성40', '여성50', '남성20', '남성30', '남성40', '남성50', '남성60', '여성60',\n",
            "       '비아파트가구수'],\n",
            "      dtype='object')\n",
            "Test MAE: $20,223,973\n",
            "Test R2: 0.1437330658258148 \n",
            "\n",
            "10 features\n"
          ]
        },
        {
          "output_type": "stream",
          "name": "stderr",
          "text": [
            "/usr/local/lib/python3.7/dist-packages/sklearn/feature_selection/_univariate_selection.py:289: RuntimeWarning: invalid value encountered in true_divide\n",
            "  correlation_coefficient /= X_norms\n",
            "/usr/local/lib/python3.7/dist-packages/sklearn/feature_selection/_univariate_selection.py:289: RuntimeWarning: invalid value encountered in true_divide\n",
            "  correlation_coefficient /= X_norms\n",
            "/usr/local/lib/python3.7/dist-packages/sklearn/feature_selection/_univariate_selection.py:289: RuntimeWarning: invalid value encountered in true_divide\n",
            "  correlation_coefficient /= X_norms\n",
            "/usr/local/lib/python3.7/dist-packages/sklearn/feature_selection/_univariate_selection.py:289: RuntimeWarning: invalid value encountered in true_divide\n",
            "  correlation_coefficient /= X_norms\n",
            "/usr/local/lib/python3.7/dist-packages/sklearn/feature_selection/_univariate_selection.py:289: RuntimeWarning: invalid value encountered in true_divide\n",
            "  correlation_coefficient /= X_norms\n",
            "/usr/local/lib/python3.7/dist-packages/sklearn/feature_selection/_univariate_selection.py:289: RuntimeWarning: invalid value encountered in true_divide\n",
            "  correlation_coefficient /= X_norms\n",
            "/usr/local/lib/python3.7/dist-packages/sklearn/feature_selection/_univariate_selection.py:289: RuntimeWarning: invalid value encountered in true_divide\n",
            "  correlation_coefficient /= X_norms\n",
            "/usr/local/lib/python3.7/dist-packages/sklearn/feature_selection/_univariate_selection.py:289: RuntimeWarning: invalid value encountered in true_divide\n",
            "  correlation_coefficient /= X_norms\n",
            "/usr/local/lib/python3.7/dist-packages/sklearn/feature_selection/_univariate_selection.py:289: RuntimeWarning: invalid value encountered in true_divide\n",
            "  correlation_coefficient /= X_norms\n",
            "/usr/local/lib/python3.7/dist-packages/sklearn/feature_selection/_univariate_selection.py:289: RuntimeWarning: invalid value encountered in true_divide\n",
            "  correlation_coefficient /= X_norms\n"
          ]
        },
        {
          "output_type": "stream",
          "name": "stdout",
          "text": [
            "Selected names:  Index(['여성40', '여성50', '남성20', '남성30', '남성40', '남성50', '남성60', '여성60',\n",
            "       '비아파트가구수', '여성_생활인구_수'],\n",
            "      dtype='object')\n",
            "Test MAE: $20,214,199\n",
            "Test R2: 0.1453166294246726 \n",
            "\n",
            "11 features\n",
            "Selected names:  Index(['여성10', '여성40', '여성50', '남성20', '남성30', '남성40', '남성50', '남성60', '여성60',\n",
            "       '비아파트가구수', '여성_생활인구_수'],\n",
            "      dtype='object')\n",
            "Test MAE: $20,400,615\n",
            "Test R2: 0.1389685843678765 \n",
            "\n",
            "12 features\n",
            "Selected names:  Index(['여성10', '여성40', '여성50', '남성20', '남성30', '남성40', '남성50', '남성60', '여성60',\n",
            "       '비아파트가구수', '남성_생활인구_수', '여성_생활인구_수'],\n",
            "      dtype='object')\n",
            "Test MAE: $20,473,665\n",
            "Test R2: 0.13958627366576026 \n",
            "\n",
            "13 features\n",
            "Selected names:  Index(['여성10', '여성40', '여성50', '남성10', '남성20', '남성30', '남성40', '남성50', '남성60',\n",
            "       '여성60', '비아파트가구수', '남성_생활인구_수', '여성_생활인구_수'],\n",
            "      dtype='object')\n",
            "Test MAE: $20,523,233\n",
            "Test R2: 0.13763178295493284 \n",
            "\n",
            "14 features\n",
            "Selected names:  Index(['여성10', '여성40', '여성50', '남성10', '남성20', '남성30', '남성40', '남성50', '남성60',\n",
            "       '여성60', '비아파트가구수', '남성_생활인구_수', '여성_생활인구_수', '아파트_단지_수'],\n",
            "      dtype='object')\n",
            "Test MAE: $20,447,449\n",
            "Test R2: 0.14167264140820313 \n",
            "\n",
            "15 features\n"
          ]
        },
        {
          "output_type": "stream",
          "name": "stderr",
          "text": [
            "/usr/local/lib/python3.7/dist-packages/sklearn/feature_selection/_univariate_selection.py:289: RuntimeWarning: invalid value encountered in true_divide\n",
            "  correlation_coefficient /= X_norms\n",
            "/usr/local/lib/python3.7/dist-packages/sklearn/feature_selection/_univariate_selection.py:289: RuntimeWarning: invalid value encountered in true_divide\n",
            "  correlation_coefficient /= X_norms\n",
            "/usr/local/lib/python3.7/dist-packages/sklearn/feature_selection/_univariate_selection.py:289: RuntimeWarning: invalid value encountered in true_divide\n",
            "  correlation_coefficient /= X_norms\n",
            "/usr/local/lib/python3.7/dist-packages/sklearn/feature_selection/_univariate_selection.py:289: RuntimeWarning: invalid value encountered in true_divide\n",
            "  correlation_coefficient /= X_norms\n",
            "/usr/local/lib/python3.7/dist-packages/sklearn/feature_selection/_univariate_selection.py:289: RuntimeWarning: invalid value encountered in true_divide\n",
            "  correlation_coefficient /= X_norms\n"
          ]
        },
        {
          "output_type": "stream",
          "name": "stdout",
          "text": [
            "Selected names:  Index(['여성10', '여성20', '여성40', '여성50', '남성10', '남성20', '남성30', '남성40', '남성50',\n",
            "       '남성60', '여성60', '비아파트가구수', '남성_생활인구_수', '여성_생활인구_수', '아파트_단지_수'],\n",
            "      dtype='object')\n",
            "Test MAE: $20,453,466\n",
            "Test R2: 0.14069522567951376 \n",
            "\n",
            "16 features\n",
            "Selected names:  Index(['여성10', '여성20', '여성40', '여성50', '남성10', '남성20', '남성30', '남성40', '남성50',\n",
            "       '남성60', '여성60', '비아파트가구수', '남성_생활인구_수', '여성_생활인구_수', '아파트_단지_수',\n",
            "       '아파트_가격_1_억_세대_수'],\n",
            "      dtype='object')\n",
            "Test MAE: $20,466,484\n",
            "Test R2: 0.14041163269501455 \n",
            "\n",
            "17 features\n",
            "Selected names:  Index(['여성10', '여성20', '여성30', '여성40', '여성50', '남성10', '남성20', '남성30', '남성40',\n",
            "       '남성50', '남성60', '여성60', '비아파트가구수', '남성_생활인구_수', '여성_생활인구_수', '아파트_단지_수',\n",
            "       '아파트_가격_1_억_세대_수'],\n",
            "      dtype='object')\n",
            "Test MAE: $20,451,645\n",
            "Test R2: 0.1373965403425671 \n",
            "\n",
            "18 features\n",
            "Selected names:  Index(['여성10', '여성20', '여성30', '여성40', '여성50', '남성10', '남성20', '남성30', '남성40',\n",
            "       '남성50', '남성60', '여성60', '비아파트가구수', '남성_생활인구_수', '여성_생활인구_수', '아파트_단지_수',\n",
            "       '아파트_가격_1_억_미만_세대_수', '아파트_가격_1_억_세대_수'],\n",
            "      dtype='object')\n"
          ]
        },
        {
          "output_type": "stream",
          "name": "stderr",
          "text": [
            "/usr/local/lib/python3.7/dist-packages/sklearn/feature_selection/_univariate_selection.py:289: RuntimeWarning: invalid value encountered in true_divide\n",
            "  correlation_coefficient /= X_norms\n",
            "/usr/local/lib/python3.7/dist-packages/sklearn/feature_selection/_univariate_selection.py:289: RuntimeWarning: invalid value encountered in true_divide\n",
            "  correlation_coefficient /= X_norms\n",
            "/usr/local/lib/python3.7/dist-packages/sklearn/feature_selection/_univariate_selection.py:289: RuntimeWarning: invalid value encountered in true_divide\n",
            "  correlation_coefficient /= X_norms\n",
            "/usr/local/lib/python3.7/dist-packages/sklearn/feature_selection/_univariate_selection.py:289: RuntimeWarning: invalid value encountered in true_divide\n",
            "  correlation_coefficient /= X_norms\n"
          ]
        },
        {
          "output_type": "stream",
          "name": "stdout",
          "text": [
            "Test MAE: $20,379,448\n",
            "Test R2: 0.13956394586177212 \n",
            "\n",
            "19 features\n",
            "Selected names:  Index(['여성10', '여성20', '여성30', '여성40', '여성50', '남성10', '남성20', '남성30', '남성40',\n",
            "       '남성50', '남성60', '여성60', '비아파트가구수', '남성_생활인구_수', '여성_생활인구_수', '아파트_단지_수',\n",
            "       '아파트_가격_1_억_미만_세대_수', '아파트_가격_1_억_세대_수', '버스_정거장_수'],\n",
            "      dtype='object')\n",
            "Test MAE: $20,387,190\n",
            "Test R2: 0.14476483172081578 \n",
            "\n",
            "20 features\n",
            "Selected names:  Index(['여성10', '여성20', '여성30', '여성40', '여성50', '남성10', '남성20', '남성30', '남성40',\n",
            "       '남성50', '남성60', '여성60', '비아파트가구수', '남성_생활인구_수', '여성_생활인구_수', '아파트_단지_수',\n",
            "       '아파트_가격_1_억_미만_세대_수', '아파트_가격_1_억_세대_수', '초등학교_수', '버스_정거장_수'],\n",
            "      dtype='object')\n",
            "Test MAE: $20,251,877\n",
            "Test R2: 0.15313395896269355 \n",
            "\n",
            "21 features\n",
            "Selected names:  Index(['여성10', '여성20', '여성30', '여성40', '여성50', '남성10', '남성20', '남성30', '남성40',\n",
            "       '남성50', '남성60', '여성60', '비아파트가구수', '남성_생활인구_수', '여성_생활인구_수', '아파트_단지_수',\n",
            "       '아파트_가격_1_억_미만_세대_수', '아파트_가격_1_억_세대_수', '여성연령대_30_직장_인구_수', '초등학교_수',\n",
            "       '버스_정거장_수'],\n",
            "      dtype='object')\n"
          ]
        },
        {
          "output_type": "stream",
          "name": "stderr",
          "text": [
            "/usr/local/lib/python3.7/dist-packages/sklearn/feature_selection/_univariate_selection.py:289: RuntimeWarning: invalid value encountered in true_divide\n",
            "  correlation_coefficient /= X_norms\n",
            "/usr/local/lib/python3.7/dist-packages/sklearn/feature_selection/_univariate_selection.py:289: RuntimeWarning: invalid value encountered in true_divide\n",
            "  correlation_coefficient /= X_norms\n",
            "/usr/local/lib/python3.7/dist-packages/sklearn/feature_selection/_univariate_selection.py:289: RuntimeWarning: invalid value encountered in true_divide\n",
            "  correlation_coefficient /= X_norms\n"
          ]
        },
        {
          "output_type": "stream",
          "name": "stdout",
          "text": [
            "Test MAE: $19,872,074\n",
            "Test R2: 0.1744176823206789 \n",
            "\n",
            "22 features\n",
            "Selected names:  Index(['여성10', '여성20', '여성30', '여성40', '여성50', '남성10', '남성20', '남성30', '남성40',\n",
            "       '남성50', '남성60', '여성60', '비아파트가구수', '남성_생활인구_수', '여성_생활인구_수', '아파트_단지_수',\n",
            "       '아파트_가격_1_억_미만_세대_수', '아파트_가격_1_억_세대_수', '남성연령대_30_직장_인구_수',\n",
            "       '여성연령대_30_직장_인구_수', '초등학교_수', '버스_정거장_수'],\n",
            "      dtype='object')\n",
            "Test MAE: $19,824,400\n",
            "Test R2: 0.17894178482084888 \n",
            "\n",
            "23 features\n",
            "Selected names:  Index(['여성10', '여성20', '여성30', '여성40', '여성50', '남성10', '남성20', '남성30', '남성40',\n",
            "       '남성50', '남성60', '여성60', '비아파트가구수', '남성_생활인구_수', '여성_생활인구_수', '아파트_단지_수',\n",
            "       '아파트_가격_1_억_미만_세대_수', '아파트_가격_1_억_세대_수', '남성연령대_30_직장_인구_수',\n",
            "       '여성연령대_30_직장_인구_수', '은행_수', '초등학교_수', '버스_정거장_수'],\n",
            "      dtype='object')\n",
            "Test MAE: $19,416,879\n",
            "Test R2: 0.2006331531086476 \n",
            "\n",
            "24 features\n",
            "Selected names:  Index(['여성10', '여성20', '여성30', '여성40', '여성50', '남성10', '남성20', '남성30', '남성40',\n",
            "       '남성50', '남성60', '여성60', '비아파트가구수', '남성_생활인구_수', '여성_생활인구_수', '아파트_단지_수',\n",
            "       '아파트_가격_1_억_미만_세대_수', '아파트_가격_1_억_세대_수', '남성연령대_30_직장_인구_수',\n",
            "       '남성연령대_40_직장_인구_수', '여성연령대_30_직장_인구_수', '은행_수', '초등학교_수', '버스_정거장_수'],\n",
            "      dtype='object')\n",
            "Test MAE: $19,409,713\n",
            "Test R2: 0.2012097747425684 \n",
            "\n",
            "25 features\n"
          ]
        },
        {
          "output_type": "stream",
          "name": "stderr",
          "text": [
            "/usr/local/lib/python3.7/dist-packages/sklearn/feature_selection/_univariate_selection.py:289: RuntimeWarning: invalid value encountered in true_divide\n",
            "  correlation_coefficient /= X_norms\n",
            "/usr/local/lib/python3.7/dist-packages/sklearn/feature_selection/_univariate_selection.py:289: RuntimeWarning: invalid value encountered in true_divide\n",
            "  correlation_coefficient /= X_norms\n",
            "/usr/local/lib/python3.7/dist-packages/sklearn/feature_selection/_univariate_selection.py:289: RuntimeWarning: invalid value encountered in true_divide\n",
            "  correlation_coefficient /= X_norms\n",
            "/usr/local/lib/python3.7/dist-packages/sklearn/feature_selection/_univariate_selection.py:289: RuntimeWarning: invalid value encountered in true_divide\n",
            "  correlation_coefficient /= X_norms\n"
          ]
        },
        {
          "output_type": "stream",
          "name": "stdout",
          "text": [
            "Selected names:  Index(['여성10', '여성20', '여성30', '여성40', '여성50', '남성10', '남성20', '남성30', '남성40',\n",
            "       '남성50', '남성60', '여성60', '비아파트가구수', '남성_생활인구_수', '여성_생활인구_수', '아파트_단지_수',\n",
            "       '아파트_가격_1_억_미만_세대_수', '아파트_가격_1_억_세대_수', '남성연령대_20_직장_인구_수',\n",
            "       '남성연령대_30_직장_인구_수', '남성연령대_40_직장_인구_수', '여성연령대_30_직장_인구_수', '은행_수',\n",
            "       '초등학교_수', '버스_정거장_수'],\n",
            "      dtype='object')\n",
            "Test MAE: $19,334,295\n",
            "Test R2: 0.2023424084828902 \n",
            "\n",
            "26 features\n",
            "Selected names:  Index(['여성10', '여성20', '여성30', '여성40', '여성50', '남성10', '남성20', '남성30', '남성40',\n",
            "       '남성50', '남성60', '여성60', '비아파트가구수', '남성_생활인구_수', '여성_생활인구_수', '아파트_단지_수',\n",
            "       '아파트_가격_1_억_미만_세대_수', '아파트_가격_1_억_세대_수', '남성연령대_20_직장_인구_수',\n",
            "       '남성연령대_30_직장_인구_수', '남성연령대_40_직장_인구_수', '여성연령대_30_직장_인구_수', '은행_수',\n",
            "       '유치원_수', '초등학교_수', '버스_정거장_수'],\n",
            "      dtype='object')\n",
            "Test MAE: $19,342,532\n",
            "Test R2: 0.20238942935454052 \n",
            "\n",
            "27 features\n",
            "Selected names:  Index(['여성10', '여성20', '여성30', '여성40', '여성50', '남성10', '남성20', '남성30', '남성40',\n",
            "       '남성50', '남성60', '여성60', '비아파트가구수', '남성_생활인구_수', '여성_생활인구_수', '아파트_단지_수',\n",
            "       '아파트_가격_1_억_미만_세대_수', '아파트_가격_1_억_세대_수', '아파트_가격_2_억_세대_수',\n",
            "       '남성연령대_20_직장_인구_수', '남성연령대_30_직장_인구_수', '남성연령대_40_직장_인구_수',\n",
            "       '여성연령대_30_직장_인구_수', '은행_수', '유치원_수', '초등학교_수', '버스_정거장_수'],\n",
            "      dtype='object')\n",
            "Test MAE: $19,218,364\n",
            "Test R2: 0.20844723763433637 \n",
            "\n",
            "28 features\n",
            "Selected names:  Index(['여성10', '여성20', '여성30', '여성40', '여성50', '남성10', '남성20', '남성30', '남성40',\n",
            "       '남성50', '남성60', '여성60', '비아파트가구수', '남성_생활인구_수', '여성_생활인구_수', '아파트_단지_수',\n",
            "       '아파트_가격_1_억_미만_세대_수', '아파트_가격_1_억_세대_수', '아파트_가격_2_억_세대_수',\n",
            "       '남성연령대_20_직장_인구_수', '남성연령대_30_직장_인구_수', '남성연령대_40_직장_인구_수',\n",
            "       '여성연령대_20_직장_인구_수', '여성연령대_30_직장_인구_수', '은행_수', '유치원_수', '초등학교_수',\n",
            "       '버스_정거장_수'],\n",
            "      dtype='object')\n",
            "Test MAE: $19,239,484\n",
            "Test R2: 0.20671045168731716 \n",
            "\n",
            "29 features\n"
          ]
        },
        {
          "output_type": "stream",
          "name": "stderr",
          "text": [
            "/usr/local/lib/python3.7/dist-packages/sklearn/feature_selection/_univariate_selection.py:289: RuntimeWarning: invalid value encountered in true_divide\n",
            "  correlation_coefficient /= X_norms\n",
            "/usr/local/lib/python3.7/dist-packages/sklearn/feature_selection/_univariate_selection.py:289: RuntimeWarning: invalid value encountered in true_divide\n",
            "  correlation_coefficient /= X_norms\n",
            "/usr/local/lib/python3.7/dist-packages/sklearn/feature_selection/_univariate_selection.py:289: RuntimeWarning: invalid value encountered in true_divide\n",
            "  correlation_coefficient /= X_norms\n",
            "/usr/local/lib/python3.7/dist-packages/sklearn/feature_selection/_univariate_selection.py:289: RuntimeWarning: invalid value encountered in true_divide\n",
            "  correlation_coefficient /= X_norms\n"
          ]
        },
        {
          "output_type": "stream",
          "name": "stdout",
          "text": [
            "Selected names:  Index(['여성10', '여성20', '여성30', '여성40', '여성50', '남성10', '남성20', '남성30', '남성40',\n",
            "       '남성50', '남성60', '여성60', '비아파트가구수', '남성_생활인구_수', '여성_생활인구_수', '아파트_단지_수',\n",
            "       '아파트_가격_1_억_미만_세대_수', '아파트_가격_1_억_세대_수', '아파트_가격_2_억_세대_수',\n",
            "       '남성연령대_20_직장_인구_수', '남성연령대_30_직장_인구_수', '남성연령대_40_직장_인구_수',\n",
            "       '여성연령대_20_직장_인구_수', '여성연령대_30_직장_인구_수', '은행_수', '유치원_수', '초등학교_수',\n",
            "       '중학교_수', '버스_정거장_수'],\n",
            "      dtype='object')\n",
            "Test MAE: $19,069,058\n",
            "Test R2: 0.21381368687834967 \n",
            "\n",
            "30 features\n",
            "Selected names:  Index(['여성10', '여성20', '여성30', '여성40', '여성50', '남성10', '남성20', '남성30', '남성40',\n",
            "       '남성50', '남성60', '여성60', '비아파트가구수', '남성_생활인구_수', '여성_생활인구_수', '아파트_단지_수',\n",
            "       '아파트_가격_1_억_미만_세대_수', '아파트_가격_1_억_세대_수', '아파트_가격_2_억_세대_수',\n",
            "       '남성연령대_20_직장_인구_수', '남성연령대_30_직장_인구_수', '남성연령대_40_직장_인구_수',\n",
            "       '여성연령대_20_직장_인구_수', '여성연령대_30_직장_인구_수', '여성연령대_40_직장_인구_수', '은행_수',\n",
            "       '유치원_수', '초등학교_수', '중학교_수', '버스_정거장_수'],\n",
            "      dtype='object')\n",
            "Test MAE: $19,308,966\n",
            "Test R2: 0.19404337393335214 \n",
            "\n",
            "31 features\n",
            "Selected names:  Index(['여성10', '여성20', '여성30', '여성40', '여성50', '남성10', '남성20', '남성30', '남성40',\n",
            "       '남성50', '남성60', '여성60', '비아파트가구수', '남성_생활인구_수', '여성_생활인구_수', '아파트_단지_수',\n",
            "       '아파트_가격_1_억_미만_세대_수', '아파트_가격_1_억_세대_수', '아파트_가격_2_억_세대_수',\n",
            "       '아파트_가격_3_억_세대_수', '남성연령대_20_직장_인구_수', '남성연령대_30_직장_인구_수',\n",
            "       '남성연령대_40_직장_인구_수', '여성연령대_20_직장_인구_수', '여성연령대_30_직장_인구_수',\n",
            "       '여성연령대_40_직장_인구_수', '은행_수', '유치원_수', '초등학교_수', '중학교_수', '버스_정거장_수'],\n",
            "      dtype='object')\n",
            "Test MAE: $19,319,038\n",
            "Test R2: 0.19384344041236312 \n",
            "\n",
            "32 features\n",
            "Selected names: "
          ]
        },
        {
          "output_type": "stream",
          "name": "stderr",
          "text": [
            "/usr/local/lib/python3.7/dist-packages/sklearn/feature_selection/_univariate_selection.py:289: RuntimeWarning: invalid value encountered in true_divide\n",
            "  correlation_coefficient /= X_norms\n",
            "/usr/local/lib/python3.7/dist-packages/sklearn/feature_selection/_univariate_selection.py:289: RuntimeWarning: invalid value encountered in true_divide\n",
            "  correlation_coefficient /= X_norms\n",
            "/usr/local/lib/python3.7/dist-packages/sklearn/feature_selection/_univariate_selection.py:289: RuntimeWarning: invalid value encountered in true_divide\n",
            "  correlation_coefficient /= X_norms\n"
          ]
        },
        {
          "output_type": "stream",
          "name": "stdout",
          "text": [
            " Index(['여성10', '여성20', '여성30', '여성40', '여성50', '남성10', '남성20', '남성30', '남성40',\n",
            "       '남성50', '남성60', '여성60', '비아파트가구수', '남성_생활인구_수', '여성_생활인구_수', '아파트_단지_수',\n",
            "       '아파트_가격_1_억_미만_세대_수', '아파트_가격_1_억_세대_수', '아파트_가격_2_억_세대_수',\n",
            "       '아파트_가격_3_억_세대_수', '아파트_평균_시가', '남성연령대_20_직장_인구_수', '남성연령대_30_직장_인구_수',\n",
            "       '남성연령대_40_직장_인구_수', '여성연령대_20_직장_인구_수', '여성연령대_30_직장_인구_수',\n",
            "       '여성연령대_40_직장_인구_수', '은행_수', '유치원_수', '초등학교_수', '중학교_수', '버스_정거장_수'],\n",
            "      dtype='object')\n",
            "Test MAE: $19,076,785\n",
            "Test R2: 0.2195670064919376 \n",
            "\n",
            "33 features\n",
            "Selected names:  Index(['여성10', '여성20', '여성30', '여성40', '여성50', '남성10', '남성20', '남성30', '남성40',\n",
            "       '남성50', '남성60', '여성60', '비아파트가구수', '남성_생활인구_수', '여성_생활인구_수', '아파트_단지_수',\n",
            "       '아파트_가격_1_억_미만_세대_수', '아파트_가격_1_억_세대_수', '아파트_가격_2_억_세대_수',\n",
            "       '아파트_가격_3_억_세대_수', '아파트_평균_시가', '남성연령대_20_직장_인구_수', '남성연령대_30_직장_인구_수',\n",
            "       '남성연령대_40_직장_인구_수', '여성연령대_20_직장_인구_수', '여성연령대_30_직장_인구_수',\n",
            "       '여성연령대_40_직장_인구_수', '집객시설_수', '은행_수', '유치원_수', '초등학교_수', '중학교_수',\n",
            "       '버스_정거장_수'],\n",
            "      dtype='object')\n",
            "Test MAE: $18,909,593\n",
            "Test R2: 0.22346113087174335 \n",
            "\n",
            "34 features\n",
            "Selected names:  Index(['여성10', '여성20', '여성30', '여성40', '여성50', '남성10', '남성20', '남성30', '남성40',\n",
            "       '남성50', '남성60', '여성60', '비아파트가구수', '남성_생활인구_수', '여성_생활인구_수', '아파트_단지_수',\n",
            "       '아파트_가격_1_억_미만_세대_수', '아파트_가격_1_억_세대_수', '아파트_가격_2_억_세대_수',\n",
            "       '아파트_가격_3_억_세대_수', '아파트_평균_시가', '남성연령대_20_직장_인구_수', '남성연령대_30_직장_인구_수',\n",
            "       '남성연령대_40_직장_인구_수', '남성연령대_50_직장_인구_수', '여성연령대_20_직장_인구_수',\n",
            "       '여성연령대_30_직장_인구_수', '여성연령대_40_직장_인구_수', '집객시설_수', '은행_수', '유치원_수',\n",
            "       '초등학교_수', '중학교_수', '버스_정거장_수'],\n",
            "      dtype='object')\n",
            "Test MAE: $18,921,642\n",
            "Test R2: 0.22196654114702785 \n",
            "\n",
            "35 features\n",
            "Selected names:  Index(['여성10', '여성20', '여성30', '여성40', '여성50', '남성10', '남성20', '남성30', '남성40',\n",
            "       '남성50', '남성60', '여성60', '비아파트가구수', '남성_생활인구_수', '여성_생활인구_수', '아파트_단지_수',\n",
            "       '아파트_가격_1_억_미만_세대_수', '아파트_가격_1_억_세대_수', '아파트_가격_2_억_세대_수',\n",
            "       '아파트_가격_3_억_세대_수', '아파트_평균_시가', '남성연령대_20_직장_인구_수', '남성연령대_30_직장_인구_수',\n",
            "       '남성연령대_40_직장_인구_수', '남성연령대_50_직장_인구_수', '여성연령대_20_직장_인구_수',\n",
            "       '여성연령대_30_직장_인구_수', '여성연령대_40_직장_인구_수', '집객시설_수', '은행_수', '유치원_수',\n",
            "       '초등학교_수', '중학교_수', '고등학교_수', '버스_정거장_수'],\n",
            "      dtype='object')\n"
          ]
        },
        {
          "output_type": "stream",
          "name": "stderr",
          "text": [
            "/usr/local/lib/python3.7/dist-packages/sklearn/feature_selection/_univariate_selection.py:289: RuntimeWarning: invalid value encountered in true_divide\n",
            "  correlation_coefficient /= X_norms\n",
            "/usr/local/lib/python3.7/dist-packages/sklearn/feature_selection/_univariate_selection.py:289: RuntimeWarning: invalid value encountered in true_divide\n",
            "  correlation_coefficient /= X_norms\n",
            "/usr/local/lib/python3.7/dist-packages/sklearn/feature_selection/_univariate_selection.py:289: RuntimeWarning: invalid value encountered in true_divide\n",
            "  correlation_coefficient /= X_norms\n",
            "/usr/local/lib/python3.7/dist-packages/sklearn/feature_selection/_univariate_selection.py:289: RuntimeWarning: invalid value encountered in true_divide\n",
            "  correlation_coefficient /= X_norms\n"
          ]
        },
        {
          "output_type": "stream",
          "name": "stdout",
          "text": [
            "Test MAE: $18,957,322\n",
            "Test R2: 0.22090432113318725 \n",
            "\n",
            "36 features\n",
            "Selected names:  Index(['여성10', '여성20', '여성30', '여성40', '여성50', '남성10', '남성20', '남성30', '남성40',\n",
            "       '남성50', '남성60', '여성60', '비아파트가구수', '남성_생활인구_수', '여성_생활인구_수', '아파트_단지_수',\n",
            "       '아파트_가격_1_억_미만_세대_수', '아파트_가격_1_억_세대_수', '아파트_가격_2_억_세대_수',\n",
            "       '아파트_가격_3_억_세대_수', '아파트_평균_시가', '남성연령대_20_직장_인구_수', '남성연령대_30_직장_인구_수',\n",
            "       '남성연령대_40_직장_인구_수', '남성연령대_50_직장_인구_수', '여성연령대_20_직장_인구_수',\n",
            "       '여성연령대_30_직장_인구_수', '여성연령대_40_직장_인구_수', '집객시설_수', '은행_수', '약국_수',\n",
            "       '유치원_수', '초등학교_수', '중학교_수', '고등학교_수', '버스_정거장_수'],\n",
            "      dtype='object')\n",
            "Test MAE: $18,901,055\n",
            "Test R2: 0.22671012125173007 \n",
            "\n",
            "37 features\n",
            "Selected names:  Index(['여성10', '여성20', '여성30', '여성40', '여성50', '남성10', '남성20', '남성30', '남성40',\n",
            "       '남성50', '남성60', '여성60', '비아파트가구수', '남성_생활인구_수', '여성_생활인구_수', '아파트_단지_수',\n",
            "       '아파트_가격_1_억_미만_세대_수', '아파트_가격_1_억_세대_수', '아파트_가격_2_억_세대_수',\n",
            "       '아파트_가격_3_억_세대_수', '아파트_평균_면적', '아파트_평균_시가', '남성연령대_20_직장_인구_수',\n",
            "       '남성연령대_30_직장_인구_수', '남성연령대_40_직장_인구_수', '남성연령대_50_직장_인구_수',\n",
            "       '여성연령대_20_직장_인구_수', '여성연령대_30_직장_인구_수', '여성연령대_40_직장_인구_수', '집객시설_수',\n",
            "       '은행_수', '약국_수', '유치원_수', '초등학교_수', '중학교_수', '고등학교_수', '버스_정거장_수'],\n",
            "      dtype='object')\n",
            "Test MAE: $18,683,911\n",
            "Test R2: 0.2181360330509109 \n",
            "\n",
            "38 features\n",
            "Selected names:  Index(['여성10', '여성20', '여성30', '여성40', '여성50', '남성10', '남성20', '남성30', '남성40',\n",
            "       '남성50', '남성60', '여성60', '비아파트가구수', '남성_생활인구_수', '여성_생활인구_수', '아파트_단지_수',\n",
            "       '아파트_가격_1_억_미만_세대_수', '아파트_가격_1_억_세대_수', '아파트_가격_2_억_세대_수',\n",
            "       '아파트_가격_3_억_세대_수', '아파트_평균_면적', '아파트_평균_시가', '남성연령대_20_직장_인구_수',\n",
            "       '남성연령대_30_직장_인구_수', '남성연령대_40_직장_인구_수', '남성연령대_50_직장_인구_수',\n",
            "       '여성연령대_20_직장_인구_수', '여성연령대_30_직장_인구_수', '여성연령대_40_직장_인구_수',\n",
            "       '여성연령대_50_직장_인구_수', '집객시설_수', '은행_수', '약국_수', '유치원_수', '초등학교_수',\n",
            "       '중학교_수', '고등학교_수', '버스_정거장_수'],\n",
            "      dtype='object')\n",
            "Test MAE: $18,672,331\n",
            "Test R2: 0.21859012439557957 \n",
            "\n",
            "39 features\n"
          ]
        },
        {
          "output_type": "stream",
          "name": "stderr",
          "text": [
            "/usr/local/lib/python3.7/dist-packages/sklearn/feature_selection/_univariate_selection.py:289: RuntimeWarning: invalid value encountered in true_divide\n",
            "  correlation_coefficient /= X_norms\n",
            "/usr/local/lib/python3.7/dist-packages/sklearn/feature_selection/_univariate_selection.py:289: RuntimeWarning: invalid value encountered in true_divide\n",
            "  correlation_coefficient /= X_norms\n",
            "/usr/local/lib/python3.7/dist-packages/sklearn/feature_selection/_univariate_selection.py:289: RuntimeWarning: invalid value encountered in true_divide\n",
            "  correlation_coefficient /= X_norms\n",
            "/usr/local/lib/python3.7/dist-packages/sklearn/feature_selection/_univariate_selection.py:289: RuntimeWarning: invalid value encountered in true_divide\n",
            "  correlation_coefficient /= X_norms\n"
          ]
        },
        {
          "output_type": "stream",
          "name": "stdout",
          "text": [
            "Selected names:  Index(['여성10', '여성20', '여성30', '여성40', '여성50', '남성10', '남성20', '남성30', '남성40',\n",
            "       '남성50', '남성60', '여성60', '비아파트가구수', '남성_생활인구_수', '여성_생활인구_수', '아파트_단지_수',\n",
            "       '아파트_가격_1_억_미만_세대_수', '아파트_가격_1_억_세대_수', '아파트_가격_2_억_세대_수',\n",
            "       '아파트_가격_3_억_세대_수', '아파트_가격_4_억_세대_수', '아파트_평균_면적', '아파트_평균_시가',\n",
            "       '남성연령대_20_직장_인구_수', '남성연령대_30_직장_인구_수', '남성연령대_40_직장_인구_수',\n",
            "       '남성연령대_50_직장_인구_수', '여성연령대_20_직장_인구_수', '여성연령대_30_직장_인구_수',\n",
            "       '여성연령대_40_직장_인구_수', '여성연령대_50_직장_인구_수', '집객시설_수', '은행_수', '약국_수',\n",
            "       '유치원_수', '초등학교_수', '중학교_수', '고등학교_수', '버스_정거장_수'],\n",
            "      dtype='object')\n",
            "Test MAE: $18,688,189\n",
            "Test R2: 0.21689237826470809 \n",
            "\n",
            "40 features\n",
            "Selected names:  Index(['여성10', '여성20', '여성30', '여성40', '여성50', '남성10', '남성20', '남성30', '남성40',\n",
            "       '남성50', '남성60', '여성60', '비아파트가구수', '남성_생활인구_수', '여성_생활인구_수', '아파트_단지_수',\n",
            "       '아파트_가격_1_억_미만_세대_수', '아파트_가격_1_억_세대_수', '아파트_가격_2_억_세대_수',\n",
            "       '아파트_가격_3_억_세대_수', '아파트_가격_4_억_세대_수', '아파트_평균_면적', '아파트_평균_시가',\n",
            "       '남성연령대_20_직장_인구_수', '남성연령대_30_직장_인구_수', '남성연령대_40_직장_인구_수',\n",
            "       '남성연령대_50_직장_인구_수', '남성연령대_60_이상_직장_인구_수', '여성연령대_20_직장_인구_수',\n",
            "       '여성연령대_30_직장_인구_수', '여성연령대_40_직장_인구_수', '여성연령대_50_직장_인구_수', '집객시설_수',\n",
            "       '은행_수', '약국_수', '유치원_수', '초등학교_수', '중학교_수', '고등학교_수', '버스_정거장_수'],\n",
            "      dtype='object')\n",
            "Test MAE: $18,676,253\n",
            "Test R2: 0.21753880403275538 \n",
            "\n",
            "41 features\n",
            "Selected names:  Index(['여성10', '여성20', '여성30', '여성40', '여성50', '남성10', '남성20', '남성30', '남성40',\n",
            "       '남성50', '남성60', '여성60', '비아파트가구수', '남성_생활인구_수', '여성_생활인구_수', '아파트_단지_수',\n",
            "       '아파트_가격_1_억_미만_세대_수', '아파트_가격_1_억_세대_수', '아파트_가격_2_억_세대_수',\n",
            "       '아파트_가격_3_억_세대_수', '아파트_가격_4_억_세대_수', '아파트_평균_면적', '아파트_평균_시가',\n",
            "       '남성연령대_20_직장_인구_수', '남성연령대_30_직장_인구_수', '남성연령대_40_직장_인구_수',\n",
            "       '남성연령대_50_직장_인구_수', '남성연령대_60_이상_직장_인구_수', '여성연령대_10_직장_인구_수',\n",
            "       '여성연령대_20_직장_인구_수', '여성연령대_30_직장_인구_수', '여성연령대_40_직장_인구_수',\n",
            "       '여성연령대_50_직장_인구_수', '집객시설_수', '은행_수', '약국_수', '유치원_수', '초등학교_수',\n",
            "       '중학교_수', '고등학교_수', '버스_정거장_수'],\n",
            "      dtype='object')\n",
            "Test MAE: $18,726,076\n",
            "Test R2: 0.21698552315395192 \n",
            "\n",
            "42 features\n",
            "Selected names:  Index(['여성10', '여성20', '여성30', '여성40', '여성50', '남성10', '남성20', '남성30', '남성40',\n",
            "       '남성50', '남성60', '여성60', '비아파트가구수', '남성_생활인구_수', '여성_생활인구_수', '아파트_단지_수',\n",
            "       '아파트_가격_1_억_미만_세대_수', '아파트_가격_1_억_세대_수', '아파트_가격_2_억_세대_수',\n",
            "       '아파트_가격_3_억_세대_수', '아파트_가격_4_억_세대_수', '아파트_평균_면적', '아파트_평균_시가',\n",
            "       '남성연령대_20_직장_인구_수', '남성연령대_30_직장_인구_수', '남성연령대_40_직장_인구_수',\n",
            "       '남성연령대_50_직장_인구_수', '남성연령대_60_이상_직장_인구_수', '여성연령대_10_직장_인구_수',\n",
            "       '여성연령대_20_직장_인구_수', '여성연령대_30_직장_인구_수', '여성연령대_40_직장_인구_수',\n",
            "       '여성연령대_50_직장_인구_수', '집객시설_수', '관공서_수', '은행_수', '약국_수', '유치원_수',\n",
            "       '초등학교_수', '중학교_수', '고등학교_수', '버스_정거장_수'],\n",
            "      dtype='object')\n",
            "Test MAE: $18,769,899\n",
            "Test R2: 0.21514356992004313 \n",
            "\n",
            "43 features\n"
          ]
        },
        {
          "output_type": "stream",
          "name": "stderr",
          "text": [
            "/usr/local/lib/python3.7/dist-packages/sklearn/feature_selection/_univariate_selection.py:289: RuntimeWarning: invalid value encountered in true_divide\n",
            "  correlation_coefficient /= X_norms\n",
            "/usr/local/lib/python3.7/dist-packages/sklearn/feature_selection/_univariate_selection.py:289: RuntimeWarning: invalid value encountered in true_divide\n",
            "  correlation_coefficient /= X_norms\n",
            "/usr/local/lib/python3.7/dist-packages/sklearn/feature_selection/_univariate_selection.py:289: RuntimeWarning: invalid value encountered in true_divide\n",
            "  correlation_coefficient /= X_norms\n",
            "/usr/local/lib/python3.7/dist-packages/sklearn/feature_selection/_univariate_selection.py:289: RuntimeWarning: invalid value encountered in true_divide\n",
            "  correlation_coefficient /= X_norms\n"
          ]
        },
        {
          "output_type": "stream",
          "name": "stdout",
          "text": [
            "Selected names:  Index(['여성10', '여성20', '여성30', '여성40', '여성50', '남성10', '남성20', '남성30', '남성40',\n",
            "       '남성50', '남성60', '여성60', '비아파트가구수', '남성_생활인구_수', '여성_생활인구_수', '아파트_단지_수',\n",
            "       '아파트_가격_1_억_미만_세대_수', '아파트_가격_1_억_세대_수', '아파트_가격_2_억_세대_수',\n",
            "       '아파트_가격_3_억_세대_수', '아파트_가격_4_억_세대_수', '아파트_평균_면적', '아파트_평균_시가',\n",
            "       '남성연령대_20_직장_인구_수', '남성연령대_30_직장_인구_수', '남성연령대_40_직장_인구_수',\n",
            "       '남성연령대_50_직장_인구_수', '남성연령대_60_이상_직장_인구_수', '여성연령대_10_직장_인구_수',\n",
            "       '여성연령대_20_직장_인구_수', '여성연령대_30_직장_인구_수', '여성연령대_40_직장_인구_수',\n",
            "       '여성연령대_50_직장_인구_수', '집객시설_수', '관공서_수', '은행_수', '약국_수', '유치원_수',\n",
            "       '초등학교_수', '중학교_수', '고등학교_수', '백화점_수', '버스_정거장_수'],\n",
            "      dtype='object')\n",
            "Test MAE: $18,847,498\n",
            "Test R2: 0.2101401349819142 \n",
            "\n",
            "44 features\n",
            "Selected names:  Index(['여성10', '여성20', '여성30', '여성40', '여성50', '남성10', '남성20', '남성30', '남성40',\n",
            "       '남성50', '남성60', '여성60', '비아파트가구수', '남성_생활인구_수', '여성_생활인구_수', '아파트_단지_수',\n",
            "       '아파트_가격_1_억_미만_세대_수', '아파트_가격_1_억_세대_수', '아파트_가격_2_억_세대_수',\n",
            "       '아파트_가격_3_억_세대_수', '아파트_가격_4_억_세대_수', '아파트_평균_면적', '아파트_평균_시가',\n",
            "       '남성연령대_20_직장_인구_수', '남성연령대_30_직장_인구_수', '남성연령대_40_직장_인구_수',\n",
            "       '남성연령대_50_직장_인구_수', '남성연령대_60_이상_직장_인구_수', '여성연령대_10_직장_인구_수',\n",
            "       '여성연령대_20_직장_인구_수', '여성연령대_30_직장_인구_수', '여성연령대_40_직장_인구_수',\n",
            "       '여성연령대_50_직장_인구_수', '여성연령대_60_이상_직장_인구_수', '집객시설_수', '관공서_수', '은행_수',\n",
            "       '약국_수', '유치원_수', '초등학교_수', '중학교_수', '고등학교_수', '백화점_수', '버스_정거장_수'],\n",
            "      dtype='object')\n",
            "Test MAE: $18,896,452\n",
            "Test R2: 0.2087621909594708 \n",
            "\n",
            "45 features\n",
            "Selected names:  Index(['여성10', '여성20', '여성30', '여성40', '여성50', '남성10', '남성20', '남성30', '남성40',\n",
            "       '남성50', '남성60', '여성60', '비아파트가구수', '남성_생활인구_수', '여성_생활인구_수', '아파트_단지_수',\n",
            "       '아파트_가격_1_억_미만_세대_수', '아파트_가격_1_억_세대_수', '아파트_가격_2_억_세대_수',\n",
            "       '아파트_가격_3_억_세대_수', '아파트_가격_4_억_세대_수', '아파트_평균_면적', '아파트_평균_시가',\n",
            "       '남성연령대_10_직장_인구_수', '남성연령대_20_직장_인구_수', '남성연령대_30_직장_인구_수',\n",
            "       '남성연령대_40_직장_인구_수', '남성연령대_50_직장_인구_수', '남성연령대_60_이상_직장_인구_수',\n",
            "       '여성연령대_10_직장_인구_수', '여성연령대_20_직장_인구_수', '여성연령대_30_직장_인구_수',\n",
            "       '여성연령대_40_직장_인구_수', '여성연령대_50_직장_인구_수', '여성연령대_60_이상_직장_인구_수', '집객시설_수',\n",
            "       '관공서_수', '은행_수', '약국_수', '유치원_수', '초등학교_수', '중학교_수', '고등학교_수', '백화점_수',\n",
            "       '버스_정거장_수'],\n",
            "      dtype='object')\n",
            "Test MAE: $18,894,265\n",
            "Test R2: 0.20890532576203058 \n",
            "\n",
            "46 features\n",
            "Selected names:  Index(['여성10', '여성20', '여성30', '여성40', '여성50', '남성10', '남성20', '남성30', '남성40',\n",
            "       '남성50', '남성60', '여성60', '비아파트가구수', '남성_생활인구_수', '여성_생활인구_수', '아파트_단지_수',\n",
            "       '아파트_가격_1_억_미만_세대_수', '아파트_가격_1_억_세대_수', '아파트_가격_2_억_세대_수',\n",
            "       '아파트_가격_3_억_세대_수', '아파트_가격_4_억_세대_수', '아파트_가격_5_억_세대_수', '아파트_평균_면적',\n",
            "       '아파트_평균_시가', '남성연령대_10_직장_인구_수', '남성연령대_20_직장_인구_수', '남성연령대_30_직장_인구_수',\n",
            "       '남성연령대_40_직장_인구_수', '남성연령대_50_직장_인구_수', '남성연령대_60_이상_직장_인구_수',\n",
            "       '여성연령대_10_직장_인구_수', '여성연령대_20_직장_인구_수', '여성연령대_30_직장_인구_수',\n",
            "       '여성연령대_40_직장_인구_수', '여성연령대_50_직장_인구_수', '여성연령대_60_이상_직장_인구_수', '집객시설_수',\n",
            "       '관공서_수', '은행_수', '약국_수', '유치원_수', '초등학교_수', '중학교_수', '고등학교_수', '백화점_수',\n",
            "       '버스_정거장_수'],\n",
            "      dtype='object')\n"
          ]
        },
        {
          "output_type": "stream",
          "name": "stderr",
          "text": [
            "/usr/local/lib/python3.7/dist-packages/sklearn/feature_selection/_univariate_selection.py:289: RuntimeWarning: invalid value encountered in true_divide\n",
            "  correlation_coefficient /= X_norms\n",
            "/usr/local/lib/python3.7/dist-packages/sklearn/feature_selection/_univariate_selection.py:289: RuntimeWarning: invalid value encountered in true_divide\n",
            "  correlation_coefficient /= X_norms\n",
            "/usr/local/lib/python3.7/dist-packages/sklearn/feature_selection/_univariate_selection.py:289: RuntimeWarning: invalid value encountered in true_divide\n",
            "  correlation_coefficient /= X_norms\n",
            "/usr/local/lib/python3.7/dist-packages/sklearn/feature_selection/_univariate_selection.py:289: RuntimeWarning: invalid value encountered in true_divide\n",
            "  correlation_coefficient /= X_norms\n"
          ]
        },
        {
          "output_type": "stream",
          "name": "stdout",
          "text": [
            "Test MAE: $18,916,575\n",
            "Test R2: 0.20592738897740293 \n",
            "\n",
            "47 features\n",
            "Selected names:  Index(['여성10', '여성20', '여성30', '여성40', '여성50', '남성10', '남성20', '남성30', '남성40',\n",
            "       '남성50', '남성60', '여성60', '비아파트가구수', '남성_생활인구_수', '여성_생활인구_수', '아파트_단지_수',\n",
            "       '아파트_가격_1_억_미만_세대_수', '아파트_가격_1_억_세대_수', '아파트_가격_2_억_세대_수',\n",
            "       '아파트_가격_3_억_세대_수', '아파트_가격_4_억_세대_수', '아파트_가격_5_억_세대_수', '아파트_평균_면적',\n",
            "       '아파트_평균_시가', '남성연령대_10_직장_인구_수', '남성연령대_20_직장_인구_수', '남성연령대_30_직장_인구_수',\n",
            "       '남성연령대_40_직장_인구_수', '남성연령대_50_직장_인구_수', '남성연령대_60_이상_직장_인구_수',\n",
            "       '여성연령대_10_직장_인구_수', '여성연령대_20_직장_인구_수', '여성연령대_30_직장_인구_수',\n",
            "       '여성연령대_40_직장_인구_수', '여성연령대_50_직장_인구_수', '여성연령대_60_이상_직장_인구_수', '집객시설_수',\n",
            "       '관공서_수', '은행_수', '약국_수', '유치원_수', '초등학교_수', '중학교_수', '고등학교_수', '백화점_수',\n",
            "       '지하철_역_수', '버스_정거장_수'],\n",
            "      dtype='object')\n",
            "Test MAE: $18,788,135\n",
            "Test R2: 0.21357000003539384 \n",
            "\n",
            "48 features\n",
            "Selected names:  Index(['여성10', '여성20', '여성30', '여성40', '여성50', '남성10', '남성20', '남성30', '남성40',\n",
            "       '남성50', '남성60', '여성60', '비아파트가구수', '남성_생활인구_수', '여성_생활인구_수', '아파트_단지_수',\n",
            "       '아파트_가격_1_억_미만_세대_수', '아파트_가격_1_억_세대_수', '아파트_가격_2_억_세대_수',\n",
            "       '아파트_가격_3_억_세대_수', '아파트_가격_4_억_세대_수', '아파트_가격_5_억_세대_수', '아파트_평균_면적',\n",
            "       '아파트_평균_시가', '남성연령대_10_직장_인구_수', '남성연령대_20_직장_인구_수', '남성연령대_30_직장_인구_수',\n",
            "       '남성연령대_40_직장_인구_수', '남성연령대_50_직장_인구_수', '남성연령대_60_이상_직장_인구_수',\n",
            "       '여성연령대_10_직장_인구_수', '여성연령대_20_직장_인구_수', '여성연령대_30_직장_인구_수',\n",
            "       '여성연령대_40_직장_인구_수', '여성연령대_50_직장_인구_수', '여성연령대_60_이상_직장_인구_수', '집객시설_수',\n",
            "       '관공서_수', '은행_수', '일반_병원_수', '약국_수', '유치원_수', '초등학교_수', '중학교_수',\n",
            "       '고등학교_수', '백화점_수', '지하철_역_수', '버스_정거장_수'],\n",
            "      dtype='object')\n",
            "Test MAE: $18,744,363\n",
            "Test R2: 0.2186616062072162 \n",
            "\n",
            "49 features\n",
            "Selected names:  Index(['여성10', '여성20', '여성30', '여성40', '여성50', '남성10', '남성20', '남성30', '남성40',\n",
            "       '남성50', '남성60', '여성60', '비아파트가구수', '남성_생활인구_수', '여성_생활인구_수', '아파트_단지_수',\n",
            "       '아파트_가격_1_억_미만_세대_수', '아파트_가격_1_억_세대_수', '아파트_가격_2_억_세대_수',\n",
            "       '아파트_가격_3_억_세대_수', '아파트_가격_4_억_세대_수', '아파트_가격_5_억_세대_수', '아파트_평균_면적',\n",
            "       '아파트_평균_시가', '남성연령대_10_직장_인구_수', '남성연령대_20_직장_인구_수', '남성연령대_30_직장_인구_수',\n",
            "       '남성연령대_40_직장_인구_수', '남성연령대_50_직장_인구_수', '남성연령대_60_이상_직장_인구_수',\n",
            "       '여성연령대_10_직장_인구_수', '여성연령대_20_직장_인구_수', '여성연령대_30_직장_인구_수',\n",
            "       '여성연령대_40_직장_인구_수', '여성연령대_50_직장_인구_수', '여성연령대_60_이상_직장_인구_수', '집객시설_수',\n",
            "       '관공서_수', '은행_수', '일반_병원_수', '약국_수', '유치원_수', '초등학교_수', '중학교_수',\n",
            "       '고등학교_수', '백화점_수', '숙박_시설_수', '지하철_역_수', '버스_정거장_수'],\n",
            "      dtype='object')\n",
            "Test MAE: $18,497,959\n",
            "Test R2: 0.2269533055346067 \n",
            "\n",
            "50 features\n"
          ]
        },
        {
          "output_type": "stream",
          "name": "stderr",
          "text": [
            "/usr/local/lib/python3.7/dist-packages/sklearn/feature_selection/_univariate_selection.py:289: RuntimeWarning: invalid value encountered in true_divide\n",
            "  correlation_coefficient /= X_norms\n",
            "/usr/local/lib/python3.7/dist-packages/sklearn/feature_selection/_univariate_selection.py:289: RuntimeWarning: invalid value encountered in true_divide\n",
            "  correlation_coefficient /= X_norms\n",
            "/usr/local/lib/python3.7/dist-packages/sklearn/feature_selection/_univariate_selection.py:289: RuntimeWarning: invalid value encountered in true_divide\n",
            "  correlation_coefficient /= X_norms\n",
            "/usr/local/lib/python3.7/dist-packages/sklearn/feature_selection/_univariate_selection.py:289: RuntimeWarning: invalid value encountered in true_divide\n",
            "  correlation_coefficient /= X_norms\n",
            "/usr/local/lib/python3.7/dist-packages/sklearn/feature_selection/_univariate_selection.py:289: RuntimeWarning: invalid value encountered in true_divide\n",
            "  correlation_coefficient /= X_norms\n"
          ]
        },
        {
          "output_type": "stream",
          "name": "stdout",
          "text": [
            "Selected names:  Index(['여성10', '여성20', '여성30', '여성40', '여성50', '남성10', '남성20', '남성30', '남성40',\n",
            "       '남성50', '남성60', '여성60', '비아파트가구수', '남성_생활인구_수', '여성_생활인구_수', '아파트_단지_수',\n",
            "       '아파트_가격_1_억_미만_세대_수', '아파트_가격_1_억_세대_수', '아파트_가격_2_억_세대_수',\n",
            "       '아파트_가격_3_억_세대_수', '아파트_가격_4_억_세대_수', '아파트_가격_5_억_세대_수', '아파트_평균_면적',\n",
            "       '아파트_평균_시가', '남성연령대_10_직장_인구_수', '남성연령대_20_직장_인구_수', '남성연령대_30_직장_인구_수',\n",
            "       '남성연령대_40_직장_인구_수', '남성연령대_50_직장_인구_수', '남성연령대_60_이상_직장_인구_수',\n",
            "       '여성연령대_10_직장_인구_수', '여성연령대_20_직장_인구_수', '여성연령대_30_직장_인구_수',\n",
            "       '여성연령대_40_직장_인구_수', '여성연령대_50_직장_인구_수', '여성연령대_60_이상_직장_인구_수', '집객시설_수',\n",
            "       '관공서_수', '은행_수', '일반_병원_수', '약국_수', '유치원_수', '초등학교_수', '중학교_수',\n",
            "       '고등학교_수', '백화점_수', '슈퍼마켓_수', '숙박_시설_수', '지하철_역_수', '버스_정거장_수'],\n",
            "      dtype='object')\n",
            "Test MAE: $18,503,561\n",
            "Test R2: 0.22815691992693032 \n",
            "\n",
            "51 features\n",
            "Selected names:  Index(['여성10', '여성20', '여성30', '여성40', '여성50', '남성10', '남성20', '남성30', '남성40',\n",
            "       '남성50', '남성60', '여성60', '비아파트가구수', '남성_생활인구_수', '여성_생활인구_수', '아파트_단지_수',\n",
            "       '아파트_가격_1_억_미만_세대_수', '아파트_가격_1_억_세대_수', '아파트_가격_2_억_세대_수',\n",
            "       '아파트_가격_3_억_세대_수', '아파트_가격_4_억_세대_수', '아파트_가격_5_억_세대_수', '아파트_평균_면적',\n",
            "       '아파트_평균_시가', '남성연령대_10_직장_인구_수', '남성연령대_20_직장_인구_수', '남성연령대_30_직장_인구_수',\n",
            "       '남성연령대_40_직장_인구_수', '남성연령대_50_직장_인구_수', '남성연령대_60_이상_직장_인구_수',\n",
            "       '여성연령대_10_직장_인구_수', '여성연령대_20_직장_인구_수', '여성연령대_30_직장_인구_수',\n",
            "       '여성연령대_40_직장_인구_수', '여성연령대_50_직장_인구_수', '여성연령대_60_이상_직장_인구_수', '집객시설_수',\n",
            "       '관공서_수', '은행_수', '일반_병원_수', '약국_수', '유치원_수', '초등학교_수', '중학교_수',\n",
            "       '고등학교_수', '대학교_수', '백화점_수', '슈퍼마켓_수', '숙박_시설_수', '지하철_역_수', '버스_정거장_수'],\n",
            "      dtype='object')\n",
            "Test MAE: $18,336,607\n",
            "Test R2: 0.23197117703779924 \n",
            "\n",
            "52 features\n",
            "Selected names:  Index(['여성10', '여성20', '여성30', '여성40', '여성50', '남성10', '남성20', '남성30', '남성40',\n",
            "       '남성50', '남성60', '여성60', '비아파트가구수', '남성_생활인구_수', '여성_생활인구_수', '아파트_단지_수',\n",
            "       '아파트_가격_1_억_미만_세대_수', '아파트_가격_1_억_세대_수', '아파트_가격_2_억_세대_수',\n",
            "       '아파트_가격_3_억_세대_수', '아파트_가격_4_억_세대_수', '아파트_가격_5_억_세대_수', '아파트_평균_면적',\n",
            "       '아파트_평균_시가', '남성연령대_10_직장_인구_수', '남성연령대_20_직장_인구_수', '남성연령대_30_직장_인구_수',\n",
            "       '남성연령대_40_직장_인구_수', '남성연령대_50_직장_인구_수', '남성연령대_60_이상_직장_인구_수',\n",
            "       '여성연령대_10_직장_인구_수', '여성연령대_20_직장_인구_수', '여성연령대_30_직장_인구_수',\n",
            "       '여성연령대_40_직장_인구_수', '여성연령대_50_직장_인구_수', '여성연령대_60_이상_직장_인구_수', '집객시설_수',\n",
            "       '관공서_수', '은행_수', '종합병원_수', '일반_병원_수', '약국_수', '유치원_수', '초등학교_수',\n",
            "       '중학교_수', '고등학교_수', '대학교_수', '백화점_수', '슈퍼마켓_수', '숙박_시설_수', '지하철_역_수',\n",
            "       '버스_정거장_수'],\n",
            "      dtype='object')\n",
            "Test MAE: $18,336,821\n",
            "Test R2: 0.2317630195554995 \n",
            "\n",
            "53 features\n",
            "Selected names:  Index(['여성10', '여성20', '여성30', '여성40', '여성50', '남성10', '남성20', '남성30', '남성40',\n",
            "       '남성50', '남성60', '여성60', '비아파트가구수', '남성_생활인구_수', '여성_생활인구_수', '아파트_단지_수',\n",
            "       '아파트_가격_1_억_미만_세대_수', '아파트_가격_1_억_세대_수', '아파트_가격_2_억_세대_수',\n",
            "       '아파트_가격_3_억_세대_수', '아파트_가격_4_억_세대_수', '아파트_가격_5_억_세대_수', '아파트_평균_면적',\n",
            "       '아파트_평균_시가', '상권내총점포수', '남성연령대_10_직장_인구_수', '남성연령대_20_직장_인구_수',\n",
            "       '남성연령대_30_직장_인구_수', '남성연령대_40_직장_인구_수', '남성연령대_50_직장_인구_수',\n",
            "       '남성연령대_60_이상_직장_인구_수', '여성연령대_10_직장_인구_수', '여성연령대_20_직장_인구_수',\n",
            "       '여성연령대_30_직장_인구_수', '여성연령대_40_직장_인구_수', '여성연령대_50_직장_인구_수',\n",
            "       '여성연령대_60_이상_직장_인구_수', '집객시설_수', '관공서_수', '은행_수', '종합병원_수', '일반_병원_수',\n",
            "       '약국_수', '유치원_수', '초등학교_수', '중학교_수', '고등학교_수', '대학교_수', '백화점_수',\n",
            "       '슈퍼마켓_수', '숙박_시설_수', '지하철_역_수', '버스_정거장_수'],\n",
            "      dtype='object')\n",
            "Test MAE: $18,312,467\n",
            "Test R2: 0.22924209749239743 \n",
            "\n",
            "54 features\n",
            "Selected names:  Index(['여성10', '여성20', '여성30', '여성40', '여성50', '남성10', '남성20', '남성30', '남성40',\n",
            "       '남성50', '남성60', '여성60', '비아파트가구수', '남성_생활인구_수', '여성_생활인구_수', '아파트_단지_수',\n",
            "       '아파트_가격_1_억_미만_세대_수', '아파트_가격_1_억_세대_수', '아파트_가격_2_억_세대_수',\n",
            "       '아파트_가격_3_억_세대_수', '아파트_가격_4_억_세대_수', '아파트_가격_5_억_세대_수', '아파트_평균_면적',\n",
            "       '아파트_평균_시가', '상권내총점포수', '남성연령대_10_직장_인구_수', '남성연령대_20_직장_인구_수',\n",
            "       '남성연령대_30_직장_인구_수', '남성연령대_40_직장_인구_수', '남성연령대_50_직장_인구_수',\n",
            "       '남성연령대_60_이상_직장_인구_수', '여성연령대_10_직장_인구_수', '여성연령대_20_직장_인구_수',\n",
            "       '여성연령대_30_직장_인구_수', '여성연령대_40_직장_인구_수', '여성연령대_50_직장_인구_수',\n",
            "       '여성연령대_60_이상_직장_인구_수', '집객시설_수', '관공서_수', '은행_수', '종합병원_수', '일반_병원_수',\n",
            "       '약국_수', '유치원_수', '초등학교_수', '중학교_수', '고등학교_수', '대학교_수', '백화점_수',\n",
            "       '슈퍼마켓_수', '숙박_시설_수', '버스_터미널_수', '지하철_역_수', '버스_정거장_수'],\n",
            "      dtype='object')\n",
            "Test MAE: $18,310,299\n",
            "Test R2: 0.22883381844775652 \n",
            "\n",
            "55 features\n",
            "Selected names:  Index(['여성10', '여성20', '여성30', '여성40', '여성50', '남성10', '남성20', '남성30', '남성40',\n",
            "       '남성50', '남성60', '여성60', '비아파트가구수', '남성_생활인구_수', '여성_생활인구_수', '아파트_단지_수',\n",
            "       '아파트_가격_1_억_미만_세대_수', '아파트_가격_1_억_세대_수', '아파트_가격_2_억_세대_수',\n",
            "       '아파트_가격_3_억_세대_수', '아파트_가격_4_억_세대_수', '아파트_가격_5_억_세대_수',\n",
            "       '아파트_가격_6_억_이상_세대_수', '아파트_평균_면적', '아파트_평균_시가', '상권내총점포수',\n",
            "       '남성연령대_10_직장_인구_수', '남성연령대_20_직장_인구_수', '남성연령대_30_직장_인구_수',\n",
            "       '남성연령대_40_직장_인구_수', '남성연령대_50_직장_인구_수', '남성연령대_60_이상_직장_인구_수',\n",
            "       '여성연령대_10_직장_인구_수', '여성연령대_20_직장_인구_수', '여성연령대_30_직장_인구_수',\n",
            "       '여성연령대_40_직장_인구_수', '여성연령대_50_직장_인구_수', '여성연령대_60_이상_직장_인구_수', '집객시설_수',\n",
            "       '관공서_수', '은행_수', '종합병원_수', '일반_병원_수', '약국_수', '유치원_수', '초등학교_수',\n",
            "       '중학교_수', '고등학교_수', '대학교_수', '백화점_수', '슈퍼마켓_수', '숙박_시설_수', '버스_터미널_수',\n",
            "       '지하철_역_수', '버스_정거장_수'],\n",
            "      dtype='object')\n",
            "Test MAE: $18,240,622\n",
            "Test R2: 0.2341586766843773 \n",
            "\n",
            "56 features\n",
            "Selected names:  Index(['여성10', '여성20', '여성30', '여성40', '여성50', '남성10', '남성20', '남성30', '남성40',\n",
            "       '남성50', '남성60', '여성60', '비아파트가구수', '남성_생활인구_수', '여성_생활인구_수', '아파트_단지_수',\n",
            "       '아파트_가격_1_억_미만_세대_수', '아파트_가격_1_억_세대_수', '아파트_가격_2_억_세대_수',\n",
            "       '아파트_가격_3_억_세대_수', '아파트_가격_4_억_세대_수', '아파트_가격_5_억_세대_수',\n",
            "       '아파트_가격_6_억_이상_세대_수', '아파트_평균_면적', '아파트_평균_시가', '상권내총점포수',\n",
            "       '남성연령대_10_직장_인구_수', '남성연령대_20_직장_인구_수', '남성연령대_30_직장_인구_수',\n",
            "       '남성연령대_40_직장_인구_수', '남성연령대_50_직장_인구_수', '남성연령대_60_이상_직장_인구_수',\n",
            "       '여성연령대_10_직장_인구_수', '여성연령대_20_직장_인구_수', '여성연령대_30_직장_인구_수',\n",
            "       '여성연령대_40_직장_인구_수', '여성연령대_50_직장_인구_수', '여성연령대_60_이상_직장_인구_수', '집객시설_수',\n",
            "       '관공서_수', '은행_수', '종합병원_수', '일반_병원_수', '약국_수', '유치원_수', '초등학교_수',\n",
            "       '중학교_수', '고등학교_수', '대학교_수', '백화점_수', '슈퍼마켓_수', '숙박_시설_수', '공항_수',\n",
            "       '버스_터미널_수', '지하철_역_수', '버스_정거장_수'],\n",
            "      dtype='object')\n",
            "Test MAE: $18,308,842\n",
            "Test R2: 0.23179959656277072 \n",
            "\n",
            "57 features\n",
            "Selected names:  Index(['여성10', '여성20', '여성30', '여성40', '여성50', '남성10', '남성20', '남성30', '남성40',\n",
            "       '남성50', '남성60', '여성60', '비아파트가구수', '남성_생활인구_수', '여성_생활인구_수', '아파트_단지_수',\n",
            "       '아파트_가격_1_억_미만_세대_수', '아파트_가격_1_억_세대_수', '아파트_가격_2_억_세대_수',\n",
            "       '아파트_가격_3_억_세대_수', '아파트_가격_4_억_세대_수', '아파트_가격_5_억_세대_수',\n",
            "       '아파트_가격_6_억_이상_세대_수', '아파트_평균_면적', '아파트_평균_시가', '상권내총점포수',\n",
            "       '남성연령대_10_직장_인구_수', '남성연령대_20_직장_인구_수', '남성연령대_30_직장_인구_수',\n",
            "       '남성연령대_40_직장_인구_수', '남성연령대_50_직장_인구_수', '남성연령대_60_이상_직장_인구_수',\n",
            "       '여성연령대_10_직장_인구_수', '여성연령대_20_직장_인구_수', '여성연령대_30_직장_인구_수',\n",
            "       '여성연령대_40_직장_인구_수', '여성연령대_50_직장_인구_수', '여성연령대_60_이상_직장_인구_수', '집객시설_수',\n",
            "       '관공서_수', '은행_수', '종합병원_수', '일반_병원_수', '약국_수', '유치원_수', '초등학교_수',\n",
            "       '중학교_수', '고등학교_수', '대학교_수', '백화점_수', '슈퍼마켓_수', '극장_수', '숙박_시설_수',\n",
            "       '공항_수', '버스_터미널_수', '지하철_역_수', '버스_정거장_수'],\n",
            "      dtype='object')\n",
            "Test MAE: $18,313,573\n",
            "Test R2: 0.23194235088504644 \n",
            "\n",
            "58 features\n",
            "Selected names:  Index(['여성10', '여성20', '여성30', '여성40', '여성50', '남성10', '남성20', '남성30', '남성40',\n",
            "       '남성50', '남성60', '여성60', '비아파트가구수', '남성_생활인구_수', '여성_생활인구_수', '아파트_단지_수',\n",
            "       '아파트_가격_1_억_미만_세대_수', '아파트_가격_1_억_세대_수', '아파트_가격_2_억_세대_수',\n",
            "       '아파트_가격_3_억_세대_수', '아파트_가격_4_억_세대_수', '아파트_가격_5_억_세대_수',\n",
            "       '아파트_가격_6_억_이상_세대_수', '아파트_평균_면적', '아파트_평균_시가', '상권내총점포수',\n",
            "       '남성연령대_10_직장_인구_수', '남성연령대_20_직장_인구_수', '남성연령대_30_직장_인구_수',\n",
            "       '남성연령대_40_직장_인구_수', '남성연령대_50_직장_인구_수', '남성연령대_60_이상_직장_인구_수',\n",
            "       '여성연령대_10_직장_인구_수', '여성연령대_20_직장_인구_수', '여성연령대_30_직장_인구_수',\n",
            "       '여성연령대_40_직장_인구_수', '여성연령대_50_직장_인구_수', '여성연령대_60_이상_직장_인구_수', '집객시설_수',\n",
            "       '관공서_수', '은행_수', '종합병원_수', '일반_병원_수', '약국_수', '유치원_수', '초등학교_수',\n",
            "       '중학교_수', '고등학교_수', '대학교_수', '백화점_수', '슈퍼마켓_수', '극장_수', '숙박_시설_수',\n",
            "       '공항_수', '철도_역_수', '버스_터미널_수', '지하철_역_수', '버스_정거장_수'],\n",
            "      dtype='object')\n"
          ]
        },
        {
          "output_type": "stream",
          "name": "stderr",
          "text": [
            "/usr/local/lib/python3.7/dist-packages/sklearn/feature_selection/_univariate_selection.py:289: RuntimeWarning: invalid value encountered in true_divide\n",
            "  correlation_coefficient /= X_norms\n",
            "/usr/local/lib/python3.7/dist-packages/sklearn/feature_selection/_univariate_selection.py:289: RuntimeWarning: invalid value encountered in true_divide\n",
            "  correlation_coefficient /= X_norms\n",
            "/usr/local/lib/python3.7/dist-packages/sklearn/feature_selection/_univariate_selection.py:289: RuntimeWarning: invalid value encountered in true_divide\n",
            "  correlation_coefficient /= X_norms\n",
            "/usr/local/lib/python3.7/dist-packages/sklearn/feature_selection/_univariate_selection.py:289: RuntimeWarning: invalid value encountered in true_divide\n",
            "  correlation_coefficient /= X_norms\n"
          ]
        },
        {
          "output_type": "stream",
          "name": "stdout",
          "text": [
            "Test MAE: $18,313,573\n",
            "Test R2: 0.23194235086396697 \n",
            "\n"
          ]
        },
        {
          "output_type": "display_data",
          "data": {
            "text/plain": [
              "<Figure size 432x288 with 1 Axes>"
            ],
            "image/png": "[encoded data removed]"
          },
          "metadata": {
            "needs_background": "light"
          }
        }
      ]
    },
    {
      "cell_type": "code",
      "source": [
        "import seaborn as sns"
      ],
      "metadata": {
        "id": "xzaDkbHn-eZK"
      },
      "execution_count": 46,
      "outputs": []
    },
    {
      "cell_type": "code",
      "source": [
        "sns.displot(df['외식업매출']);"
      ],
      "metadata": {
        "colab": {
          "base_uri": "https://localhost:8080/",
          "height": 736
        },
        "id": "TbkmFTIV-gxY",
        "outputId": "af0c6590-9dee-4fc7-c5f8-bd5bb4e45fe6"
      },
      "execution_count": 47,
      "outputs": [
        {
          "output_type": "stream",
          "name": "stderr",
          "text": [
            "/usr/local/lib/python3.7/dist-packages/matplotlib/backends/backend_agg.py:214: RuntimeWarning: Glyph 50808 missing from current font.\n",
            "  font.set_text(s, 0.0, flags=flags)\n",
            "/usr/local/lib/python3.7/dist-packages/matplotlib/backends/backend_agg.py:214: RuntimeWarning: Glyph 49885 missing from current font.\n",
            "  font.set_text(s, 0.0, flags=flags)\n",
            "/usr/local/lib/python3.7/dist-packages/matplotlib/backends/backend_agg.py:214: RuntimeWarning: Glyph 50629 missing from current font.\n",
            "  font.set_text(s, 0.0, flags=flags)\n",
            "/usr/local/lib/python3.7/dist-packages/matplotlib/backends/backend_agg.py:214: RuntimeWarning: Glyph 47588 missing from current font.\n",
            "  font.set_text(s, 0.0, flags=flags)\n",
            "/usr/local/lib/python3.7/dist-packages/matplotlib/backends/backend_agg.py:214: RuntimeWarning: Glyph 52636 missing from current font.\n",
            "  font.set_text(s, 0.0, flags=flags)\n",
            "/usr/local/lib/python3.7/dist-packages/matplotlib/backends/backend_agg.py:183: RuntimeWarning: Glyph 50808 missing from current font.\n",
            "  font.set_text(s, 0, flags=flags)\n",
            "/usr/local/lib/python3.7/dist-packages/matplotlib/backends/backend_agg.py:183: RuntimeWarning: Glyph 49885 missing from current font.\n",
            "  font.set_text(s, 0, flags=flags)\n",
            "/usr/local/lib/python3.7/dist-packages/matplotlib/backends/backend_agg.py:183: RuntimeWarning: Glyph 50629 missing from current font.\n",
            "  font.set_text(s, 0, flags=flags)\n",
            "/usr/local/lib/python3.7/dist-packages/matplotlib/backends/backend_agg.py:183: RuntimeWarning: Glyph 47588 missing from current font.\n",
            "  font.set_text(s, 0, flags=flags)\n",
            "/usr/local/lib/python3.7/dist-packages/matplotlib/backends/backend_agg.py:183: RuntimeWarning: Glyph 52636 missing from current font.\n",
            "  font.set_text(s, 0, flags=flags)\n"
          ]
        },
        {
          "output_type": "display_data",
          "data": {
            "text/plain": [
              "<Figure size 360x360 with 1 Axes>"
            ],
            "image/png": "[encoded data removed]"
          },
          "metadata": {
            "needs_background": "light"
          }
        }
      ]
    },
    {
      "cell_type": "code",
      "source": [
        "import numpy as np"
      ],
      "metadata": {
        "id": "8mExsxF2-vrH"
      },
      "execution_count": 49,
      "outputs": []
    },
    {
      "cell_type": "code",
      "source": [
        "df = df[(df['외식업매출'] >= np.percentile(df['외식업매출'], 5)) & \n",
        "        (df['외식업매출'] <= np.percentile(df['외식업매출'], 95))] "
      ],
      "metadata": {
        "id": "DU390qrX-lSd"
      },
      "execution_count": 51,
      "outputs": []
    },
    {
      "cell_type": "code",
      "source": [
        "sns.displot(df['외식업매출']);"
      ],
      "metadata": {
        "id": "F_ao2Kp--uX5"
      },
      "execution_count": null,
      "outputs": []
    },
    {
      "cell_type": "code",
      "source": [
        "from sklearn.model_selection import RandomizedSearchCV"
      ],
      "metadata": {
        "id": "nO6Qp4kR_XmU"
      },
      "execution_count": 53,
      "outputs": []
    },
    {
      "cell_type": "code",
      "source": [
        "from sklearn.pipeline import make_pipeline"
      ],
      "metadata": {
        "id": "1JOuxP9h_pmE"
      },
      "execution_count": 56,
      "outputs": []
    },
    {
      "cell_type": "code",
      "source": [
        "from sklearn.preprocessing import StandardScaler"
      ],
      "metadata": {
        "id": "-RaU4_DL_s7g"
      },
      "execution_count": 58,
      "outputs": []
    },
    {
      "cell_type": "code",
      "source": [
        "from sklearn.linear_model import Ridge"
      ],
      "metadata": {
        "id": "0ntzIINl_vNI"
      },
      "execution_count": 60,
      "outputs": []
    },
    {
      "cell_type": "code",
      "source": [
        "pipe = make_pipeline(\n",
        "      StandardScaler()\n",
        "    , SelectKBest(f_regression)\n",
        "    , Ridge()\n",
        ")\n",
        "\n",
        "dists = { \n",
        "    'selectkbest__k': range(1, len(X_train.columns)+1), \n",
        "    'ridge__alpha': [0.1, 1, 10], \n",
        "}\n",
        "\n",
        "clf = RandomizedSearchCV(\n",
        "    pipe, \n",
        "    param_distributions=dists, \n",
        "    n_iter=50, \n",
        "    cv=3,\n",
        "    scoring='neg_mean_absolute_error',\n",
        "    verbose=1,\n",
        "    n_jobs=-1\n",
        ")\n",
        "\n",
        "clf.fit(X_train, y_train);"
      ],
      "metadata": {
        "colab": {
          "base_uri": "https://localhost:8080/"
        },
        "id": "iztK1V72_ejr",
        "outputId": "8699d175-d394-452d-d6e2-19341ce32e8b"
      },
      "execution_count": 61,
      "outputs": [
        {
          "output_type": "stream",
          "name": "stdout",
          "text": [
            "Fitting 3 folds for each of 50 candidates, totalling 150 fits\n"
          ]
        },
        {
          "output_type": "stream",
          "name": "stderr",
          "text": [
            "/usr/local/lib/python3.7/dist-packages/sklearn/feature_selection/_univariate_selection.py:289: RuntimeWarning: invalid value encountered in true_divide\n",
            "  correlation_coefficient /= X_norms\n"
          ]
        }
      ]
    },
    {
      "cell_type": "code",
      "source": [
        "print('최적 하이퍼파라미터: ', clf.best_params_)\n",
        "print('MAE: ', -clf.best_score_)"
      ],
      "metadata": {
        "colab": {
          "base_uri": "https://localhost:8080/"
        },
        "id": "d49w0Jbd_3jD",
        "outputId": "477bc056-a8fb-4990-bd84-d586087d233d"
      },
      "execution_count": 62,
      "outputs": [
        {
          "output_type": "stream",
          "name": "stdout",
          "text": [
            "최적 하이퍼파라미터:  {'selectkbest__k': 36, 'ridge__alpha': 10}\n",
            "MAE:  19856156.961893532\n"
          ]
        }
      ]
    },
    {
      "cell_type": "code",
      "source": [
        "pd.DataFrame(clf.cv_results_).sort_values(by='rank_test_score').T"
      ],
      "metadata": {
        "id": "LzXbbscx_3aT"
      },
      "execution_count": null,
      "outputs": []
    },
    {
      "cell_type": "code",
      "source": [
        "pipe = clf.best_estimator_"
      ],
      "metadata": {
        "id": "EJFGj588_-_K"
      },
      "execution_count": 64,
      "outputs": []
    },
    {
      "cell_type": "code",
      "source": [
        "from sklearn.metrics import mean_absolute_error\n",
        "\n",
        "y_pred = pipe.predict(X_test)\n",
        "mae = mean_absolute_error(y_test, y_pred)\n",
        "print(f'테스트세트 MAE: ${mae:,.0f}')"
      ],
      "metadata": {
        "id": "_J7vRRgwAAep",
        "outputId": "a70146e3-905e-4575-b35f-18e759258309",
        "colab": {
          "base_uri": "https://localhost:8080/"
        }
      },
      "execution_count": 65,
      "outputs": [
        {
          "output_type": "stream",
          "name": "stdout",
          "text": [
            "테스트세트 MAE: $18,641,142\n"
          ]
        }
      ]
    }
  ]
}